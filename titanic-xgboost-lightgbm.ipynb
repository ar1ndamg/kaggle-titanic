{
 "cells": [
  {
   "cell_type": "code",
   "execution_count": 1,
   "metadata": {
    "_cell_guid": "b1076dfc-b9ad-4769-8c92-a6c4dae69d19",
    "_uuid": "8f2839f25d086af736a60e9eeb907d3b93b6e0e5",
    "execution": {
     "iopub.execute_input": "2021-01-15T12:33:37.624987Z",
     "iopub.status.busy": "2021-01-15T12:33:37.624350Z",
     "iopub.status.idle": "2021-01-15T12:33:37.632384Z",
     "shell.execute_reply": "2021-01-15T12:33:37.631948Z"
    },
    "papermill": {
     "duration": 0.05226,
     "end_time": "2021-01-15T12:33:37.632487",
     "exception": false,
     "start_time": "2021-01-15T12:33:37.580227",
     "status": "completed"
    },
    "tags": []
   },
   "outputs": [
    {
     "name": "stdout",
     "output_type": "stream",
     "text": [
      "/kaggle/input/titanic/train.csv\n",
      "/kaggle/input/titanic/test.csv\n",
      "/kaggle/input/titanic/gender_submission.csv\n"
     ]
    }
   ],
   "source": [
    "# This Python 3 environment comes with many helpful analytics libraries installed\n",
    "# It is defined by the kaggle/python Docker image: https://github.com/kaggle/docker-python\n",
    "# For example, here's several helpful packages to load\n",
    "\n",
    "import numpy as np # linear algebra\n",
    "import pandas as pd # data processing, CSV file I/O (e.g. pd.read_csv)\n",
    "\n",
    "# Input data files are available in the read-only \"../input/\" directory\n",
    "# For example, running this (by clicking run or pressing Shift+Enter) will list all files under the input directory\n",
    "\n",
    "import os\n",
    "for dirname, _, filenames in os.walk('/kaggle/input'):\n",
    "    for filename in filenames:\n",
    "        print(os.path.join(dirname, filename))\n",
    "\n",
    "# You can write up to 20GB to the current directory (/kaggle/working/) that gets preserved as output when you create a version using \"Save & Run All\" \n",
    "# You can also write temporary files to /kaggle/temp/, but they won't be saved outside of the current session"
   ]
  },
  {
   "cell_type": "code",
   "execution_count": 2,
   "metadata": {
    "_cell_guid": "79c7e3d0-c299-4dcb-8224-4455121ee9b0",
    "_uuid": "d629ff2d2480ee46fbb7e2d37f6b5fab8052498a",
    "execution": {
     "iopub.execute_input": "2021-01-15T12:33:37.720389Z",
     "iopub.status.busy": "2021-01-15T12:33:37.719828Z",
     "iopub.status.idle": "2021-01-15T12:33:37.755927Z",
     "shell.execute_reply": "2021-01-15T12:33:37.755476Z"
    },
    "papermill": {
     "duration": 0.082791,
     "end_time": "2021-01-15T12:33:37.756025",
     "exception": false,
     "start_time": "2021-01-15T12:33:37.673234",
     "status": "completed"
    },
    "tags": []
   },
   "outputs": [
    {
     "data": {
      "text/html": [
       "<div>\n",
       "<style scoped>\n",
       "    .dataframe tbody tr th:only-of-type {\n",
       "        vertical-align: middle;\n",
       "    }\n",
       "\n",
       "    .dataframe tbody tr th {\n",
       "        vertical-align: top;\n",
       "    }\n",
       "\n",
       "    .dataframe thead th {\n",
       "        text-align: right;\n",
       "    }\n",
       "</style>\n",
       "<table border=\"1\" class=\"dataframe\">\n",
       "  <thead>\n",
       "    <tr style=\"text-align: right;\">\n",
       "      <th></th>\n",
       "      <th>Survived</th>\n",
       "      <th>Pclass</th>\n",
       "      <th>Name</th>\n",
       "      <th>Sex</th>\n",
       "      <th>Age</th>\n",
       "      <th>SibSp</th>\n",
       "      <th>Parch</th>\n",
       "      <th>Ticket</th>\n",
       "      <th>Fare</th>\n",
       "      <th>Cabin</th>\n",
       "      <th>Embarked</th>\n",
       "    </tr>\n",
       "    <tr>\n",
       "      <th>PassengerId</th>\n",
       "      <th></th>\n",
       "      <th></th>\n",
       "      <th></th>\n",
       "      <th></th>\n",
       "      <th></th>\n",
       "      <th></th>\n",
       "      <th></th>\n",
       "      <th></th>\n",
       "      <th></th>\n",
       "      <th></th>\n",
       "      <th></th>\n",
       "    </tr>\n",
       "  </thead>\n",
       "  <tbody>\n",
       "    <tr>\n",
       "      <th>1</th>\n",
       "      <td>0</td>\n",
       "      <td>3</td>\n",
       "      <td>Braund, Mr. Owen Harris</td>\n",
       "      <td>male</td>\n",
       "      <td>22.0</td>\n",
       "      <td>1</td>\n",
       "      <td>0</td>\n",
       "      <td>A/5 21171</td>\n",
       "      <td>7.2500</td>\n",
       "      <td>NaN</td>\n",
       "      <td>S</td>\n",
       "    </tr>\n",
       "    <tr>\n",
       "      <th>2</th>\n",
       "      <td>1</td>\n",
       "      <td>1</td>\n",
       "      <td>Cumings, Mrs. John Bradley (Florence Briggs Th...</td>\n",
       "      <td>female</td>\n",
       "      <td>38.0</td>\n",
       "      <td>1</td>\n",
       "      <td>0</td>\n",
       "      <td>PC 17599</td>\n",
       "      <td>71.2833</td>\n",
       "      <td>C85</td>\n",
       "      <td>C</td>\n",
       "    </tr>\n",
       "    <tr>\n",
       "      <th>3</th>\n",
       "      <td>1</td>\n",
       "      <td>3</td>\n",
       "      <td>Heikkinen, Miss. Laina</td>\n",
       "      <td>female</td>\n",
       "      <td>26.0</td>\n",
       "      <td>0</td>\n",
       "      <td>0</td>\n",
       "      <td>STON/O2. 3101282</td>\n",
       "      <td>7.9250</td>\n",
       "      <td>NaN</td>\n",
       "      <td>S</td>\n",
       "    </tr>\n",
       "    <tr>\n",
       "      <th>4</th>\n",
       "      <td>1</td>\n",
       "      <td>1</td>\n",
       "      <td>Futrelle, Mrs. Jacques Heath (Lily May Peel)</td>\n",
       "      <td>female</td>\n",
       "      <td>35.0</td>\n",
       "      <td>1</td>\n",
       "      <td>0</td>\n",
       "      <td>113803</td>\n",
       "      <td>53.1000</td>\n",
       "      <td>C123</td>\n",
       "      <td>S</td>\n",
       "    </tr>\n",
       "    <tr>\n",
       "      <th>5</th>\n",
       "      <td>0</td>\n",
       "      <td>3</td>\n",
       "      <td>Allen, Mr. William Henry</td>\n",
       "      <td>male</td>\n",
       "      <td>35.0</td>\n",
       "      <td>0</td>\n",
       "      <td>0</td>\n",
       "      <td>373450</td>\n",
       "      <td>8.0500</td>\n",
       "      <td>NaN</td>\n",
       "      <td>S</td>\n",
       "    </tr>\n",
       "  </tbody>\n",
       "</table>\n",
       "</div>"
      ],
      "text/plain": [
       "             Survived  Pclass  \\\n",
       "PassengerId                     \n",
       "1                   0       3   \n",
       "2                   1       1   \n",
       "3                   1       3   \n",
       "4                   1       1   \n",
       "5                   0       3   \n",
       "\n",
       "                                                          Name     Sex   Age  \\\n",
       "PassengerId                                                                    \n",
       "1                                      Braund, Mr. Owen Harris    male  22.0   \n",
       "2            Cumings, Mrs. John Bradley (Florence Briggs Th...  female  38.0   \n",
       "3                                       Heikkinen, Miss. Laina  female  26.0   \n",
       "4                 Futrelle, Mrs. Jacques Heath (Lily May Peel)  female  35.0   \n",
       "5                                     Allen, Mr. William Henry    male  35.0   \n",
       "\n",
       "             SibSp  Parch            Ticket     Fare Cabin Embarked  \n",
       "PassengerId                                                          \n",
       "1                1      0         A/5 21171   7.2500   NaN        S  \n",
       "2                1      0          PC 17599  71.2833   C85        C  \n",
       "3                0      0  STON/O2. 3101282   7.9250   NaN        S  \n",
       "4                1      0            113803  53.1000  C123        S  \n",
       "5                0      0            373450   8.0500   NaN        S  "
      ]
     },
     "execution_count": 2,
     "metadata": {},
     "output_type": "execute_result"
    }
   ],
   "source": [
    "train_data = pd.read_csv(\"/kaggle/input/titanic/train.csv\", index_col=\"PassengerId\")\n",
    "train_data.head()"
   ]
  },
  {
   "cell_type": "code",
   "execution_count": 3,
   "metadata": {
    "execution": {
     "iopub.execute_input": "2021-01-15T12:33:37.845945Z",
     "iopub.status.busy": "2021-01-15T12:33:37.845372Z",
     "iopub.status.idle": "2021-01-15T12:33:37.867377Z",
     "shell.execute_reply": "2021-01-15T12:33:37.867868Z"
    },
    "papermill": {
     "duration": 0.070021,
     "end_time": "2021-01-15T12:33:37.867995",
     "exception": false,
     "start_time": "2021-01-15T12:33:37.797974",
     "status": "completed"
    },
    "tags": []
   },
   "outputs": [
    {
     "data": {
      "text/html": [
       "<div>\n",
       "<style scoped>\n",
       "    .dataframe tbody tr th:only-of-type {\n",
       "        vertical-align: middle;\n",
       "    }\n",
       "\n",
       "    .dataframe tbody tr th {\n",
       "        vertical-align: top;\n",
       "    }\n",
       "\n",
       "    .dataframe thead th {\n",
       "        text-align: right;\n",
       "    }\n",
       "</style>\n",
       "<table border=\"1\" class=\"dataframe\">\n",
       "  <thead>\n",
       "    <tr style=\"text-align: right;\">\n",
       "      <th></th>\n",
       "      <th>Pclass</th>\n",
       "      <th>Name</th>\n",
       "      <th>Sex</th>\n",
       "      <th>Age</th>\n",
       "      <th>SibSp</th>\n",
       "      <th>Parch</th>\n",
       "      <th>Ticket</th>\n",
       "      <th>Fare</th>\n",
       "      <th>Cabin</th>\n",
       "      <th>Embarked</th>\n",
       "    </tr>\n",
       "    <tr>\n",
       "      <th>PassengerId</th>\n",
       "      <th></th>\n",
       "      <th></th>\n",
       "      <th></th>\n",
       "      <th></th>\n",
       "      <th></th>\n",
       "      <th></th>\n",
       "      <th></th>\n",
       "      <th></th>\n",
       "      <th></th>\n",
       "      <th></th>\n",
       "    </tr>\n",
       "  </thead>\n",
       "  <tbody>\n",
       "    <tr>\n",
       "      <th>892</th>\n",
       "      <td>3</td>\n",
       "      <td>Kelly, Mr. James</td>\n",
       "      <td>male</td>\n",
       "      <td>34.5</td>\n",
       "      <td>0</td>\n",
       "      <td>0</td>\n",
       "      <td>330911</td>\n",
       "      <td>7.8292</td>\n",
       "      <td>NaN</td>\n",
       "      <td>Q</td>\n",
       "    </tr>\n",
       "    <tr>\n",
       "      <th>893</th>\n",
       "      <td>3</td>\n",
       "      <td>Wilkes, Mrs. James (Ellen Needs)</td>\n",
       "      <td>female</td>\n",
       "      <td>47.0</td>\n",
       "      <td>1</td>\n",
       "      <td>0</td>\n",
       "      <td>363272</td>\n",
       "      <td>7.0000</td>\n",
       "      <td>NaN</td>\n",
       "      <td>S</td>\n",
       "    </tr>\n",
       "    <tr>\n",
       "      <th>894</th>\n",
       "      <td>2</td>\n",
       "      <td>Myles, Mr. Thomas Francis</td>\n",
       "      <td>male</td>\n",
       "      <td>62.0</td>\n",
       "      <td>0</td>\n",
       "      <td>0</td>\n",
       "      <td>240276</td>\n",
       "      <td>9.6875</td>\n",
       "      <td>NaN</td>\n",
       "      <td>Q</td>\n",
       "    </tr>\n",
       "    <tr>\n",
       "      <th>895</th>\n",
       "      <td>3</td>\n",
       "      <td>Wirz, Mr. Albert</td>\n",
       "      <td>male</td>\n",
       "      <td>27.0</td>\n",
       "      <td>0</td>\n",
       "      <td>0</td>\n",
       "      <td>315154</td>\n",
       "      <td>8.6625</td>\n",
       "      <td>NaN</td>\n",
       "      <td>S</td>\n",
       "    </tr>\n",
       "    <tr>\n",
       "      <th>896</th>\n",
       "      <td>3</td>\n",
       "      <td>Hirvonen, Mrs. Alexander (Helga E Lindqvist)</td>\n",
       "      <td>female</td>\n",
       "      <td>22.0</td>\n",
       "      <td>1</td>\n",
       "      <td>1</td>\n",
       "      <td>3101298</td>\n",
       "      <td>12.2875</td>\n",
       "      <td>NaN</td>\n",
       "      <td>S</td>\n",
       "    </tr>\n",
       "  </tbody>\n",
       "</table>\n",
       "</div>"
      ],
      "text/plain": [
       "             Pclass                                          Name     Sex  \\\n",
       "PassengerId                                                                 \n",
       "892               3                              Kelly, Mr. James    male   \n",
       "893               3              Wilkes, Mrs. James (Ellen Needs)  female   \n",
       "894               2                     Myles, Mr. Thomas Francis    male   \n",
       "895               3                              Wirz, Mr. Albert    male   \n",
       "896               3  Hirvonen, Mrs. Alexander (Helga E Lindqvist)  female   \n",
       "\n",
       "              Age  SibSp  Parch   Ticket     Fare Cabin Embarked  \n",
       "PassengerId                                                       \n",
       "892          34.5      0      0   330911   7.8292   NaN        Q  \n",
       "893          47.0      1      0   363272   7.0000   NaN        S  \n",
       "894          62.0      0      0   240276   9.6875   NaN        Q  \n",
       "895          27.0      0      0   315154   8.6625   NaN        S  \n",
       "896          22.0      1      1  3101298  12.2875   NaN        S  "
      ]
     },
     "execution_count": 3,
     "metadata": {},
     "output_type": "execute_result"
    }
   ],
   "source": [
    "test_data = pd.read_csv(\"/kaggle/input/titanic/test.csv\", index_col=\"PassengerId\")\n",
    "test_data.head()"
   ]
  },
  {
   "cell_type": "code",
   "execution_count": 4,
   "metadata": {
    "execution": {
     "iopub.execute_input": "2021-01-15T12:33:37.956149Z",
     "iopub.status.busy": "2021-01-15T12:33:37.955648Z",
     "iopub.status.idle": "2021-01-15T12:33:37.959654Z",
     "shell.execute_reply": "2021-01-15T12:33:37.960210Z"
    },
    "papermill": {
     "duration": 0.049778,
     "end_time": "2021-01-15T12:33:37.960324",
     "exception": false,
     "start_time": "2021-01-15T12:33:37.910546",
     "status": "completed"
    },
    "tags": []
   },
   "outputs": [
    {
     "data": {
      "text/plain": [
       "(891, 11)"
      ]
     },
     "execution_count": 4,
     "metadata": {},
     "output_type": "execute_result"
    }
   ],
   "source": [
    "train_data.shape"
   ]
  },
  {
   "cell_type": "code",
   "execution_count": 5,
   "metadata": {
    "execution": {
     "iopub.execute_input": "2021-01-15T12:33:38.050395Z",
     "iopub.status.busy": "2021-01-15T12:33:38.049876Z",
     "iopub.status.idle": "2021-01-15T12:33:39.177808Z",
     "shell.execute_reply": "2021-01-15T12:33:39.177251Z"
    },
    "papermill": {
     "duration": 1.173999,
     "end_time": "2021-01-15T12:33:39.177920",
     "exception": false,
     "start_time": "2021-01-15T12:33:38.003921",
     "status": "completed"
    },
    "tags": []
   },
   "outputs": [
    {
     "data": {
      "image/png": "[encoded data removed]",
      "text/plain": [
       "<Figure size 432x288 with 1 Axes>"
      ]
     },
     "metadata": {
      "needs_background": "light"
     },
     "output_type": "display_data"
    }
   ],
   "source": [
    "import seaborn as sns\n",
    "ax = sns.countplot(x=\"Survived\", data=train_data)"
   ]
  },
  {
   "cell_type": "code",
   "execution_count": 6,
   "metadata": {
    "execution": {
     "iopub.execute_input": "2021-01-15T12:33:39.291978Z",
     "iopub.status.busy": "2021-01-15T12:33:39.280373Z",
     "iopub.status.idle": "2021-01-15T12:33:39.295709Z",
     "shell.execute_reply": "2021-01-15T12:33:39.296221Z"
    },
    "papermill": {
     "duration": 0.071297,
     "end_time": "2021-01-15T12:33:39.296349",
     "exception": false,
     "start_time": "2021-01-15T12:33:39.225052",
     "status": "completed"
    },
    "tags": []
   },
   "outputs": [
    {
     "data": {
      "text/html": [
       "<div>\n",
       "<style scoped>\n",
       "    .dataframe tbody tr th:only-of-type {\n",
       "        vertical-align: middle;\n",
       "    }\n",
       "\n",
       "    .dataframe tbody tr th {\n",
       "        vertical-align: top;\n",
       "    }\n",
       "\n",
       "    .dataframe thead th {\n",
       "        text-align: right;\n",
       "    }\n",
       "</style>\n",
       "<table border=\"1\" class=\"dataframe\">\n",
       "  <thead>\n",
       "    <tr style=\"text-align: right;\">\n",
       "      <th></th>\n",
       "      <th>Survived</th>\n",
       "      <th>Pclass</th>\n",
       "      <th>Name</th>\n",
       "      <th>Sex</th>\n",
       "      <th>Age</th>\n",
       "      <th>SibSp</th>\n",
       "      <th>Parch</th>\n",
       "      <th>Ticket</th>\n",
       "      <th>Fare</th>\n",
       "      <th>Cabin</th>\n",
       "      <th>Embarked</th>\n",
       "    </tr>\n",
       "    <tr>\n",
       "      <th>PassengerId</th>\n",
       "      <th></th>\n",
       "      <th></th>\n",
       "      <th></th>\n",
       "      <th></th>\n",
       "      <th></th>\n",
       "      <th></th>\n",
       "      <th></th>\n",
       "      <th></th>\n",
       "      <th></th>\n",
       "      <th></th>\n",
       "      <th></th>\n",
       "    </tr>\n",
       "  </thead>\n",
       "  <tbody>\n",
       "    <tr>\n",
       "      <th>1</th>\n",
       "      <td>0.0</td>\n",
       "      <td>3</td>\n",
       "      <td>Braund, Mr. Owen Harris</td>\n",
       "      <td>male</td>\n",
       "      <td>22.0</td>\n",
       "      <td>1</td>\n",
       "      <td>0</td>\n",
       "      <td>A/5 21171</td>\n",
       "      <td>7.2500</td>\n",
       "      <td>NaN</td>\n",
       "      <td>S</td>\n",
       "    </tr>\n",
       "    <tr>\n",
       "      <th>2</th>\n",
       "      <td>1.0</td>\n",
       "      <td>1</td>\n",
       "      <td>Cumings, Mrs. John Bradley (Florence Briggs Th...</td>\n",
       "      <td>female</td>\n",
       "      <td>38.0</td>\n",
       "      <td>1</td>\n",
       "      <td>0</td>\n",
       "      <td>PC 17599</td>\n",
       "      <td>71.2833</td>\n",
       "      <td>C85</td>\n",
       "      <td>C</td>\n",
       "    </tr>\n",
       "    <tr>\n",
       "      <th>3</th>\n",
       "      <td>1.0</td>\n",
       "      <td>3</td>\n",
       "      <td>Heikkinen, Miss. Laina</td>\n",
       "      <td>female</td>\n",
       "      <td>26.0</td>\n",
       "      <td>0</td>\n",
       "      <td>0</td>\n",
       "      <td>STON/O2. 3101282</td>\n",
       "      <td>7.9250</td>\n",
       "      <td>NaN</td>\n",
       "      <td>S</td>\n",
       "    </tr>\n",
       "    <tr>\n",
       "      <th>4</th>\n",
       "      <td>1.0</td>\n",
       "      <td>1</td>\n",
       "      <td>Futrelle, Mrs. Jacques Heath (Lily May Peel)</td>\n",
       "      <td>female</td>\n",
       "      <td>35.0</td>\n",
       "      <td>1</td>\n",
       "      <td>0</td>\n",
       "      <td>113803</td>\n",
       "      <td>53.1000</td>\n",
       "      <td>C123</td>\n",
       "      <td>S</td>\n",
       "    </tr>\n",
       "    <tr>\n",
       "      <th>5</th>\n",
       "      <td>0.0</td>\n",
       "      <td>3</td>\n",
       "      <td>Allen, Mr. William Henry</td>\n",
       "      <td>male</td>\n",
       "      <td>35.0</td>\n",
       "      <td>0</td>\n",
       "      <td>0</td>\n",
       "      <td>373450</td>\n",
       "      <td>8.0500</td>\n",
       "      <td>NaN</td>\n",
       "      <td>S</td>\n",
       "    </tr>\n",
       "  </tbody>\n",
       "</table>\n",
       "</div>"
      ],
      "text/plain": [
       "             Survived  Pclass  \\\n",
       "PassengerId                     \n",
       "1                 0.0       3   \n",
       "2                 1.0       1   \n",
       "3                 1.0       3   \n",
       "4                 1.0       1   \n",
       "5                 0.0       3   \n",
       "\n",
       "                                                          Name     Sex   Age  \\\n",
       "PassengerId                                                                    \n",
       "1                                      Braund, Mr. Owen Harris    male  22.0   \n",
       "2            Cumings, Mrs. John Bradley (Florence Briggs Th...  female  38.0   \n",
       "3                                       Heikkinen, Miss. Laina  female  26.0   \n",
       "4                 Futrelle, Mrs. Jacques Heath (Lily May Peel)  female  35.0   \n",
       "5                                     Allen, Mr. William Henry    male  35.0   \n",
       "\n",
       "             SibSp  Parch            Ticket     Fare Cabin Embarked  \n",
       "PassengerId                                                          \n",
       "1                1      0         A/5 21171   7.2500   NaN        S  \n",
       "2                1      0          PC 17599  71.2833   C85        C  \n",
       "3                0      0  STON/O2. 3101282   7.9250   NaN        S  \n",
       "4                1      0            113803  53.1000  C123        S  \n",
       "5                0      0            373450   8.0500   NaN        S  "
      ]
     },
     "execution_count": 6,
     "metadata": {},
     "output_type": "execute_result"
    }
   ],
   "source": [
    "combined = pd.concat([train_data, test_data])\n",
    "combined.head()"
   ]
  },
  {
   "cell_type": "code",
   "execution_count": 7,
   "metadata": {
    "execution": {
     "iopub.execute_input": "2021-01-15T12:33:39.395752Z",
     "iopub.status.busy": "2021-01-15T12:33:39.394777Z",
     "iopub.status.idle": "2021-01-15T12:33:39.419132Z",
     "shell.execute_reply": "2021-01-15T12:33:39.419703Z"
    },
    "papermill": {
     "duration": 0.075893,
     "end_time": "2021-01-15T12:33:39.419829",
     "exception": false,
     "start_time": "2021-01-15T12:33:39.343936",
     "status": "completed"
    },
    "tags": []
   },
   "outputs": [
    {
     "data": {
      "text/html": [
       "<div>\n",
       "<style scoped>\n",
       "    .dataframe tbody tr th:only-of-type {\n",
       "        vertical-align: middle;\n",
       "    }\n",
       "\n",
       "    .dataframe tbody tr th {\n",
       "        vertical-align: top;\n",
       "    }\n",
       "\n",
       "    .dataframe thead th {\n",
       "        text-align: right;\n",
       "    }\n",
       "</style>\n",
       "<table border=\"1\" class=\"dataframe\">\n",
       "  <thead>\n",
       "    <tr style=\"text-align: right;\">\n",
       "      <th></th>\n",
       "      <th>Survived</th>\n",
       "      <th>Pclass</th>\n",
       "      <th>Name</th>\n",
       "      <th>Sex</th>\n",
       "      <th>Age</th>\n",
       "      <th>SibSp</th>\n",
       "      <th>Parch</th>\n",
       "      <th>Ticket</th>\n",
       "      <th>Fare</th>\n",
       "      <th>Cabin</th>\n",
       "      <th>Embarked</th>\n",
       "    </tr>\n",
       "    <tr>\n",
       "      <th>PassengerId</th>\n",
       "      <th></th>\n",
       "      <th></th>\n",
       "      <th></th>\n",
       "      <th></th>\n",
       "      <th></th>\n",
       "      <th></th>\n",
       "      <th></th>\n",
       "      <th></th>\n",
       "      <th></th>\n",
       "      <th></th>\n",
       "      <th></th>\n",
       "    </tr>\n",
       "  </thead>\n",
       "  <tbody>\n",
       "    <tr>\n",
       "      <th>892</th>\n",
       "      <td>NaN</td>\n",
       "      <td>3</td>\n",
       "      <td>Kelly, Mr. James</td>\n",
       "      <td>male</td>\n",
       "      <td>34.5</td>\n",
       "      <td>0</td>\n",
       "      <td>0</td>\n",
       "      <td>330911</td>\n",
       "      <td>7.8292</td>\n",
       "      <td>NaN</td>\n",
       "      <td>Q</td>\n",
       "    </tr>\n",
       "    <tr>\n",
       "      <th>893</th>\n",
       "      <td>NaN</td>\n",
       "      <td>3</td>\n",
       "      <td>Wilkes, Mrs. James (Ellen Needs)</td>\n",
       "      <td>female</td>\n",
       "      <td>47.0</td>\n",
       "      <td>1</td>\n",
       "      <td>0</td>\n",
       "      <td>363272</td>\n",
       "      <td>7.0000</td>\n",
       "      <td>NaN</td>\n",
       "      <td>S</td>\n",
       "    </tr>\n",
       "    <tr>\n",
       "      <th>894</th>\n",
       "      <td>NaN</td>\n",
       "      <td>2</td>\n",
       "      <td>Myles, Mr. Thomas Francis</td>\n",
       "      <td>male</td>\n",
       "      <td>62.0</td>\n",
       "      <td>0</td>\n",
       "      <td>0</td>\n",
       "      <td>240276</td>\n",
       "      <td>9.6875</td>\n",
       "      <td>NaN</td>\n",
       "      <td>Q</td>\n",
       "    </tr>\n",
       "    <tr>\n",
       "      <th>895</th>\n",
       "      <td>NaN</td>\n",
       "      <td>3</td>\n",
       "      <td>Wirz, Mr. Albert</td>\n",
       "      <td>male</td>\n",
       "      <td>27.0</td>\n",
       "      <td>0</td>\n",
       "      <td>0</td>\n",
       "      <td>315154</td>\n",
       "      <td>8.6625</td>\n",
       "      <td>NaN</td>\n",
       "      <td>S</td>\n",
       "    </tr>\n",
       "    <tr>\n",
       "      <th>896</th>\n",
       "      <td>NaN</td>\n",
       "      <td>3</td>\n",
       "      <td>Hirvonen, Mrs. Alexander (Helga E Lindqvist)</td>\n",
       "      <td>female</td>\n",
       "      <td>22.0</td>\n",
       "      <td>1</td>\n",
       "      <td>1</td>\n",
       "      <td>3101298</td>\n",
       "      <td>12.2875</td>\n",
       "      <td>NaN</td>\n",
       "      <td>S</td>\n",
       "    </tr>\n",
       "    <tr>\n",
       "      <th>...</th>\n",
       "      <td>...</td>\n",
       "      <td>...</td>\n",
       "      <td>...</td>\n",
       "      <td>...</td>\n",
       "      <td>...</td>\n",
       "      <td>...</td>\n",
       "      <td>...</td>\n",
       "      <td>...</td>\n",
       "      <td>...</td>\n",
       "      <td>...</td>\n",
       "      <td>...</td>\n",
       "    </tr>\n",
       "    <tr>\n",
       "      <th>1305</th>\n",
       "      <td>NaN</td>\n",
       "      <td>3</td>\n",
       "      <td>Spector, Mr. Woolf</td>\n",
       "      <td>male</td>\n",
       "      <td>NaN</td>\n",
       "      <td>0</td>\n",
       "      <td>0</td>\n",
       "      <td>A.5. 3236</td>\n",
       "      <td>8.0500</td>\n",
       "      <td>NaN</td>\n",
       "      <td>S</td>\n",
       "    </tr>\n",
       "    <tr>\n",
       "      <th>1306</th>\n",
       "      <td>NaN</td>\n",
       "      <td>1</td>\n",
       "      <td>Oliva y Ocana, Dona. Fermina</td>\n",
       "      <td>female</td>\n",
       "      <td>39.0</td>\n",
       "      <td>0</td>\n",
       "      <td>0</td>\n",
       "      <td>PC 17758</td>\n",
       "      <td>108.9000</td>\n",
       "      <td>C105</td>\n",
       "      <td>C</td>\n",
       "    </tr>\n",
       "    <tr>\n",
       "      <th>1307</th>\n",
       "      <td>NaN</td>\n",
       "      <td>3</td>\n",
       "      <td>Saether, Mr. Simon Sivertsen</td>\n",
       "      <td>male</td>\n",
       "      <td>38.5</td>\n",
       "      <td>0</td>\n",
       "      <td>0</td>\n",
       "      <td>SOTON/O.Q. 3101262</td>\n",
       "      <td>7.2500</td>\n",
       "      <td>NaN</td>\n",
       "      <td>S</td>\n",
       "    </tr>\n",
       "    <tr>\n",
       "      <th>1308</th>\n",
       "      <td>NaN</td>\n",
       "      <td>3</td>\n",
       "      <td>Ware, Mr. Frederick</td>\n",
       "      <td>male</td>\n",
       "      <td>NaN</td>\n",
       "      <td>0</td>\n",
       "      <td>0</td>\n",
       "      <td>359309</td>\n",
       "      <td>8.0500</td>\n",
       "      <td>NaN</td>\n",
       "      <td>S</td>\n",
       "    </tr>\n",
       "    <tr>\n",
       "      <th>1309</th>\n",
       "      <td>NaN</td>\n",
       "      <td>3</td>\n",
       "      <td>Peter, Master. Michael J</td>\n",
       "      <td>male</td>\n",
       "      <td>NaN</td>\n",
       "      <td>1</td>\n",
       "      <td>1</td>\n",
       "      <td>2668</td>\n",
       "      <td>22.3583</td>\n",
       "      <td>NaN</td>\n",
       "      <td>C</td>\n",
       "    </tr>\n",
       "  </tbody>\n",
       "</table>\n",
       "<p>418 rows × 11 columns</p>\n",
       "</div>"
      ],
      "text/plain": [
       "             Survived  Pclass                                          Name  \\\n",
       "PassengerId                                                                   \n",
       "892               NaN       3                              Kelly, Mr. James   \n",
       "893               NaN       3              Wilkes, Mrs. James (Ellen Needs)   \n",
       "894               NaN       2                     Myles, Mr. Thomas Francis   \n",
       "895               NaN       3                              Wirz, Mr. Albert   \n",
       "896               NaN       3  Hirvonen, Mrs. Alexander (Helga E Lindqvist)   \n",
       "...               ...     ...                                           ...   \n",
       "1305              NaN       3                            Spector, Mr. Woolf   \n",
       "1306              NaN       1                  Oliva y Ocana, Dona. Fermina   \n",
       "1307              NaN       3                  Saether, Mr. Simon Sivertsen   \n",
       "1308              NaN       3                           Ware, Mr. Frederick   \n",
       "1309              NaN       3                      Peter, Master. Michael J   \n",
       "\n",
       "                Sex   Age  SibSp  Parch              Ticket      Fare Cabin  \\\n",
       "PassengerId                                                                   \n",
       "892            male  34.5      0      0              330911    7.8292   NaN   \n",
       "893          female  47.0      1      0              363272    7.0000   NaN   \n",
       "894            male  62.0      0      0              240276    9.6875   NaN   \n",
       "895            male  27.0      0      0              315154    8.6625   NaN   \n",
       "896          female  22.0      1      1             3101298   12.2875   NaN   \n",
       "...             ...   ...    ...    ...                 ...       ...   ...   \n",
       "1305           male   NaN      0      0           A.5. 3236    8.0500   NaN   \n",
       "1306         female  39.0      0      0            PC 17758  108.9000  C105   \n",
       "1307           male  38.5      0      0  SOTON/O.Q. 3101262    7.2500   NaN   \n",
       "1308           male   NaN      0      0              359309    8.0500   NaN   \n",
       "1309           male   NaN      1      1                2668   22.3583   NaN   \n",
       "\n",
       "            Embarked  \n",
       "PassengerId           \n",
       "892                Q  \n",
       "893                S  \n",
       "894                Q  \n",
       "895                S  \n",
       "896                S  \n",
       "...              ...  \n",
       "1305               S  \n",
       "1306               C  \n",
       "1307               S  \n",
       "1308               S  \n",
       "1309               C  \n",
       "\n",
       "[418 rows x 11 columns]"
      ]
     },
     "execution_count": 7,
     "metadata": {},
     "output_type": "execute_result"
    }
   ],
   "source": [
    "combined.iloc[891:]"
   ]
  },
  {
   "cell_type": "code",
   "execution_count": 8,
   "metadata": {
    "execution": {
     "iopub.execute_input": "2021-01-15T12:33:39.523790Z",
     "iopub.status.busy": "2021-01-15T12:33:39.522955Z",
     "iopub.status.idle": "2021-01-15T12:33:39.530756Z",
     "shell.execute_reply": "2021-01-15T12:33:39.531208Z"
    },
    "papermill": {
     "duration": 0.06218,
     "end_time": "2021-01-15T12:33:39.531317",
     "exception": false,
     "start_time": "2021-01-15T12:33:39.469137",
     "status": "completed"
    },
    "tags": []
   },
   "outputs": [
    {
     "data": {
      "text/plain": [
       "Survived     418\n",
       "Pclass         0\n",
       "Name           0\n",
       "Sex            0\n",
       "Age          263\n",
       "SibSp          0\n",
       "Parch          0\n",
       "Ticket         0\n",
       "Fare           1\n",
       "Cabin       1014\n",
       "Embarked       2\n",
       "dtype: int64"
      ]
     },
     "execution_count": 8,
     "metadata": {},
     "output_type": "execute_result"
    }
   ],
   "source": [
    "combined.isnull().sum()"
   ]
  },
  {
   "cell_type": "code",
   "execution_count": 9,
   "metadata": {
    "execution": {
     "iopub.execute_input": "2021-01-15T12:33:39.626367Z",
     "iopub.status.busy": "2021-01-15T12:33:39.625529Z",
     "iopub.status.idle": "2021-01-15T12:33:39.643443Z",
     "shell.execute_reply": "2021-01-15T12:33:39.643855Z"
    },
    "papermill": {
     "duration": 0.067033,
     "end_time": "2021-01-15T12:33:39.643979",
     "exception": false,
     "start_time": "2021-01-15T12:33:39.576946",
     "status": "completed"
    },
    "tags": []
   },
   "outputs": [
    {
     "data": {
      "text/html": [
       "<div>\n",
       "<style scoped>\n",
       "    .dataframe tbody tr th:only-of-type {\n",
       "        vertical-align: middle;\n",
       "    }\n",
       "\n",
       "    .dataframe tbody tr th {\n",
       "        vertical-align: top;\n",
       "    }\n",
       "\n",
       "    .dataframe thead th {\n",
       "        text-align: right;\n",
       "    }\n",
       "</style>\n",
       "<table border=\"1\" class=\"dataframe\">\n",
       "  <thead>\n",
       "    <tr style=\"text-align: right;\">\n",
       "      <th></th>\n",
       "      <th>Survived</th>\n",
       "      <th>Pclass</th>\n",
       "      <th>Name</th>\n",
       "      <th>Sex</th>\n",
       "      <th>Age</th>\n",
       "      <th>SibSp</th>\n",
       "      <th>Parch</th>\n",
       "      <th>Ticket</th>\n",
       "      <th>Fare</th>\n",
       "      <th>Cabin</th>\n",
       "      <th>Embarked</th>\n",
       "    </tr>\n",
       "    <tr>\n",
       "      <th>PassengerId</th>\n",
       "      <th></th>\n",
       "      <th></th>\n",
       "      <th></th>\n",
       "      <th></th>\n",
       "      <th></th>\n",
       "      <th></th>\n",
       "      <th></th>\n",
       "      <th></th>\n",
       "      <th></th>\n",
       "      <th></th>\n",
       "      <th></th>\n",
       "    </tr>\n",
       "  </thead>\n",
       "  <tbody>\n",
       "    <tr>\n",
       "      <th>62</th>\n",
       "      <td>1.0</td>\n",
       "      <td>1</td>\n",
       "      <td>Icard, Miss. Amelie</td>\n",
       "      <td>female</td>\n",
       "      <td>38.0</td>\n",
       "      <td>0</td>\n",
       "      <td>0</td>\n",
       "      <td>113572</td>\n",
       "      <td>80.0</td>\n",
       "      <td>B28</td>\n",
       "      <td>NaN</td>\n",
       "    </tr>\n",
       "    <tr>\n",
       "      <th>830</th>\n",
       "      <td>1.0</td>\n",
       "      <td>1</td>\n",
       "      <td>Stone, Mrs. George Nelson (Martha Evelyn)</td>\n",
       "      <td>female</td>\n",
       "      <td>62.0</td>\n",
       "      <td>0</td>\n",
       "      <td>0</td>\n",
       "      <td>113572</td>\n",
       "      <td>80.0</td>\n",
       "      <td>B28</td>\n",
       "      <td>NaN</td>\n",
       "    </tr>\n",
       "  </tbody>\n",
       "</table>\n",
       "</div>"
      ],
      "text/plain": [
       "             Survived  Pclass                                       Name  \\\n",
       "PassengerId                                                                \n",
       "62                1.0       1                        Icard, Miss. Amelie   \n",
       "830               1.0       1  Stone, Mrs. George Nelson (Martha Evelyn)   \n",
       "\n",
       "                Sex   Age  SibSp  Parch  Ticket  Fare Cabin Embarked  \n",
       "PassengerId                                                           \n",
       "62           female  38.0      0      0  113572  80.0   B28      NaN  \n",
       "830          female  62.0      0      0  113572  80.0   B28      NaN  "
      ]
     },
     "execution_count": 9,
     "metadata": {},
     "output_type": "execute_result"
    }
   ],
   "source": [
    "combined[combined.Embarked.isnull()]"
   ]
  },
  {
   "cell_type": "code",
   "execution_count": 10,
   "metadata": {
    "execution": {
     "iopub.execute_input": "2021-01-15T12:33:39.746278Z",
     "iopub.status.busy": "2021-01-15T12:33:39.745512Z",
     "iopub.status.idle": "2021-01-15T12:33:39.748723Z",
     "shell.execute_reply": "2021-01-15T12:33:39.748162Z"
    },
    "papermill": {
     "duration": 0.056615,
     "end_time": "2021-01-15T12:33:39.748820",
     "exception": false,
     "start_time": "2021-01-15T12:33:39.692205",
     "status": "completed"
    },
    "tags": []
   },
   "outputs": [
    {
     "data": {
      "text/plain": [
       "0    S\n",
       "dtype: object"
      ]
     },
     "execution_count": 10,
     "metadata": {},
     "output_type": "execute_result"
    }
   ],
   "source": [
    "combined.Embarked.mode()"
   ]
  },
  {
   "cell_type": "code",
   "execution_count": 11,
   "metadata": {
    "execution": {
     "iopub.execute_input": "2021-01-15T12:33:39.845931Z",
     "iopub.status.busy": "2021-01-15T12:33:39.845018Z",
     "iopub.status.idle": "2021-01-15T12:33:39.849435Z",
     "shell.execute_reply": "2021-01-15T12:33:39.849877Z"
    },
    "papermill": {
     "duration": 0.054445,
     "end_time": "2021-01-15T12:33:39.849989",
     "exception": false,
     "start_time": "2021-01-15T12:33:39.795544",
     "status": "completed"
    },
    "tags": []
   },
   "outputs": [],
   "source": [
    "combined[\"Embarked\"].fillna(\"S\", inplace=True)"
   ]
  },
  {
   "cell_type": "code",
   "execution_count": 12,
   "metadata": {
    "execution": {
     "iopub.execute_input": "2021-01-15T12:33:39.946298Z",
     "iopub.status.busy": "2021-01-15T12:33:39.945394Z",
     "iopub.status.idle": "2021-01-15T12:33:39.961129Z",
     "shell.execute_reply": "2021-01-15T12:33:39.961591Z"
    },
    "papermill": {
     "duration": 0.064711,
     "end_time": "2021-01-15T12:33:39.961733",
     "exception": false,
     "start_time": "2021-01-15T12:33:39.897022",
     "status": "completed"
    },
    "tags": []
   },
   "outputs": [
    {
     "data": {
      "text/html": [
       "<div>\n",
       "<style scoped>\n",
       "    .dataframe tbody tr th:only-of-type {\n",
       "        vertical-align: middle;\n",
       "    }\n",
       "\n",
       "    .dataframe tbody tr th {\n",
       "        vertical-align: top;\n",
       "    }\n",
       "\n",
       "    .dataframe thead th {\n",
       "        text-align: right;\n",
       "    }\n",
       "</style>\n",
       "<table border=\"1\" class=\"dataframe\">\n",
       "  <thead>\n",
       "    <tr style=\"text-align: right;\">\n",
       "      <th></th>\n",
       "      <th>Survived</th>\n",
       "      <th>Pclass</th>\n",
       "      <th>Name</th>\n",
       "      <th>Sex</th>\n",
       "      <th>Age</th>\n",
       "      <th>SibSp</th>\n",
       "      <th>Parch</th>\n",
       "      <th>Ticket</th>\n",
       "      <th>Fare</th>\n",
       "      <th>Cabin</th>\n",
       "      <th>Embarked</th>\n",
       "    </tr>\n",
       "    <tr>\n",
       "      <th>PassengerId</th>\n",
       "      <th></th>\n",
       "      <th></th>\n",
       "      <th></th>\n",
       "      <th></th>\n",
       "      <th></th>\n",
       "      <th></th>\n",
       "      <th></th>\n",
       "      <th></th>\n",
       "      <th></th>\n",
       "      <th></th>\n",
       "      <th></th>\n",
       "    </tr>\n",
       "  </thead>\n",
       "  <tbody>\n",
       "    <tr>\n",
       "      <th>6</th>\n",
       "      <td>0.0</td>\n",
       "      <td>3</td>\n",
       "      <td>Moran, Mr. James</td>\n",
       "      <td>male</td>\n",
       "      <td>NaN</td>\n",
       "      <td>0</td>\n",
       "      <td>0</td>\n",
       "      <td>330877</td>\n",
       "      <td>8.4583</td>\n",
       "      <td>NaN</td>\n",
       "      <td>Q</td>\n",
       "    </tr>\n",
       "    <tr>\n",
       "      <th>18</th>\n",
       "      <td>1.0</td>\n",
       "      <td>2</td>\n",
       "      <td>Williams, Mr. Charles Eugene</td>\n",
       "      <td>male</td>\n",
       "      <td>NaN</td>\n",
       "      <td>0</td>\n",
       "      <td>0</td>\n",
       "      <td>244373</td>\n",
       "      <td>13.0000</td>\n",
       "      <td>NaN</td>\n",
       "      <td>S</td>\n",
       "    </tr>\n",
       "    <tr>\n",
       "      <th>20</th>\n",
       "      <td>1.0</td>\n",
       "      <td>3</td>\n",
       "      <td>Masselmani, Mrs. Fatima</td>\n",
       "      <td>female</td>\n",
       "      <td>NaN</td>\n",
       "      <td>0</td>\n",
       "      <td>0</td>\n",
       "      <td>2649</td>\n",
       "      <td>7.2250</td>\n",
       "      <td>NaN</td>\n",
       "      <td>C</td>\n",
       "    </tr>\n",
       "    <tr>\n",
       "      <th>27</th>\n",
       "      <td>0.0</td>\n",
       "      <td>3</td>\n",
       "      <td>Emir, Mr. Farred Chehab</td>\n",
       "      <td>male</td>\n",
       "      <td>NaN</td>\n",
       "      <td>0</td>\n",
       "      <td>0</td>\n",
       "      <td>2631</td>\n",
       "      <td>7.2250</td>\n",
       "      <td>NaN</td>\n",
       "      <td>C</td>\n",
       "    </tr>\n",
       "    <tr>\n",
       "      <th>29</th>\n",
       "      <td>1.0</td>\n",
       "      <td>3</td>\n",
       "      <td>O'Dwyer, Miss. Ellen \"Nellie\"</td>\n",
       "      <td>female</td>\n",
       "      <td>NaN</td>\n",
       "      <td>0</td>\n",
       "      <td>0</td>\n",
       "      <td>330959</td>\n",
       "      <td>7.8792</td>\n",
       "      <td>NaN</td>\n",
       "      <td>Q</td>\n",
       "    </tr>\n",
       "  </tbody>\n",
       "</table>\n",
       "</div>"
      ],
      "text/plain": [
       "             Survived  Pclass                           Name     Sex  Age  \\\n",
       "PassengerId                                                                 \n",
       "6                 0.0       3               Moran, Mr. James    male  NaN   \n",
       "18                1.0       2   Williams, Mr. Charles Eugene    male  NaN   \n",
       "20                1.0       3        Masselmani, Mrs. Fatima  female  NaN   \n",
       "27                0.0       3        Emir, Mr. Farred Chehab    male  NaN   \n",
       "29                1.0       3  O'Dwyer, Miss. Ellen \"Nellie\"  female  NaN   \n",
       "\n",
       "             SibSp  Parch  Ticket     Fare Cabin Embarked  \n",
       "PassengerId                                                \n",
       "6                0      0  330877   8.4583   NaN        Q  \n",
       "18               0      0  244373  13.0000   NaN        S  \n",
       "20               0      0    2649   7.2250   NaN        C  \n",
       "27               0      0    2631   7.2250   NaN        C  \n",
       "29               0      0  330959   7.8792   NaN        Q  "
      ]
     },
     "execution_count": 12,
     "metadata": {},
     "output_type": "execute_result"
    }
   ],
   "source": [
    "combined[combined.Age.isnull()].head()"
   ]
  },
  {
   "cell_type": "code",
   "execution_count": 13,
   "metadata": {
    "execution": {
     "iopub.execute_input": "2021-01-15T12:33:40.066845Z",
     "iopub.status.busy": "2021-01-15T12:33:40.066314Z",
     "iopub.status.idle": "2021-01-15T12:33:40.210712Z",
     "shell.execute_reply": "2021-01-15T12:33:40.210202Z"
    },
    "papermill": {
     "duration": 0.197966,
     "end_time": "2021-01-15T12:33:40.210823",
     "exception": false,
     "start_time": "2021-01-15T12:33:40.012857",
     "status": "completed"
    },
    "tags": []
   },
   "outputs": [
    {
     "data": {
      "text/plain": [
       "<matplotlib.axes._subplots.AxesSubplot at 0x7fdf1390c5d0>"
      ]
     },
     "execution_count": 13,
     "metadata": {},
     "output_type": "execute_result"
    },
    {
     "data": {
      "image/png": "[encoded data removed]",
      "text/plain": [
       "<Figure size 432x288 with 1 Axes>"
      ]
     },
     "metadata": {
      "needs_background": "light"
     },
     "output_type": "display_data"
    }
   ],
   "source": [
    "sns.boxplot(x = 'Pclass',y ='Age',data = combined)"
   ]
  },
  {
   "cell_type": "code",
   "execution_count": 14,
   "metadata": {
    "execution": {
     "iopub.execute_input": "2021-01-15T12:33:40.319496Z",
     "iopub.status.busy": "2021-01-15T12:33:40.313087Z",
     "iopub.status.idle": "2021-01-15T12:33:40.440721Z",
     "shell.execute_reply": "2021-01-15T12:33:40.440228Z"
    },
    "papermill": {
     "duration": 0.181523,
     "end_time": "2021-01-15T12:33:40.440856",
     "exception": false,
     "start_time": "2021-01-15T12:33:40.259333",
     "status": "completed"
    },
    "tags": []
   },
   "outputs": [
    {
     "data": {
      "text/plain": [
       "<matplotlib.axes._subplots.AxesSubplot at 0x7fdf138533d0>"
      ]
     },
     "execution_count": 14,
     "metadata": {},
     "output_type": "execute_result"
    },
    {
     "data": {
      "image/png": "[encoded data removed]",
      "text/plain": [
       "<Figure size 432x288 with 1 Axes>"
      ]
     },
     "metadata": {
      "needs_background": "light"
     },
     "output_type": "display_data"
    }
   ],
   "source": [
    "sns.boxplot(x='Sex', y='Age', data=combined )"
   ]
  },
  {
   "cell_type": "code",
   "execution_count": 15,
   "metadata": {
    "execution": {
     "iopub.execute_input": "2021-01-15T12:33:40.553680Z",
     "iopub.status.busy": "2021-01-15T12:33:40.553082Z",
     "iopub.status.idle": "2021-01-15T12:33:40.585991Z",
     "shell.execute_reply": "2021-01-15T12:33:40.586446Z"
    },
    "papermill": {
     "duration": 0.096318,
     "end_time": "2021-01-15T12:33:40.586558",
     "exception": false,
     "start_time": "2021-01-15T12:33:40.490240",
     "status": "completed"
    },
    "tags": []
   },
   "outputs": [
    {
     "data": {
      "text/plain": [
       "({'male': 36.0, 'female': 35.0},\n",
       " {'male': 30.0, 'female': 24.0},\n",
       " {'male': 21.0, 'female': 18.0})"
      ]
     },
     "execution_count": 15,
     "metadata": {},
     "output_type": "execute_result"
    }
   ],
   "source": [
    "pclass_1_mode_age = {\"male\":combined[(combined.Pclass == 1) & (combined.Sex==\"male\")][\"Age\"].mode().iloc[0],\n",
    "                     \"female\" : combined[(combined.Pclass == 1) & (combined.Sex==\"female\")][\"Age\"].mode().iloc[0]}\n",
    "pclass_2_mode_age = {\"male\":combined[(combined.Pclass == 2) & (combined.Sex==\"male\")][\"Age\"].mode().iloc[0],\n",
    "                     \"female\" : combined[(combined.Pclass == 2) & (combined.Sex==\"female\")][\"Age\"].mode().iloc[0]}\n",
    "pclass_3_mode_age = {\"male\":combined[(combined.Pclass == 3) & (combined.Sex==\"male\")][\"Age\"].mode().iloc[0],\n",
    "                     \"female\" : combined[(combined.Pclass == 3) & (combined.Sex==\"female\")][\"Age\"].mode().iloc[0]}\n",
    "\n",
    "pclass_1_mode_age, pclass_2_mode_age, pclass_3_mode_age"
   ]
  },
  {
   "cell_type": "code",
   "execution_count": 16,
   "metadata": {
    "execution": {
     "iopub.execute_input": "2021-01-15T12:33:40.694245Z",
     "iopub.status.busy": "2021-01-15T12:33:40.693655Z",
     "iopub.status.idle": "2021-01-15T12:33:40.739681Z",
     "shell.execute_reply": "2021-01-15T12:33:40.740112Z"
    },
    "papermill": {
     "duration": 0.102424,
     "end_time": "2021-01-15T12:33:40.740256",
     "exception": false,
     "start_time": "2021-01-15T12:33:40.637832",
     "status": "completed"
    },
    "tags": []
   },
   "outputs": [],
   "source": [
    "def impute_age(row):\n",
    "    age = row.Age\n",
    "    pclass = row.Pclass\n",
    "    if pd.isnull(age):\n",
    "        if pclass == 1:\n",
    "            return pclass_1_mode_age[row.Sex]\n",
    "        elif pclass == 2:\n",
    "            return pclass_2_mode_age[row.Sex]\n",
    "        else:\n",
    "            return pclass_3_mode_age[row.Sex]\n",
    "    else:\n",
    "        return age\n",
    "combined[\"Age\"] = combined.apply(impute_age, axis=1)"
   ]
  },
  {
   "cell_type": "code",
   "execution_count": 17,
   "metadata": {
    "execution": {
     "iopub.execute_input": "2021-01-15T12:33:40.849932Z",
     "iopub.status.busy": "2021-01-15T12:33:40.849385Z",
     "iopub.status.idle": "2021-01-15T12:33:40.883932Z",
     "shell.execute_reply": "2021-01-15T12:33:40.884418Z"
    },
    "papermill": {
     "duration": 0.090152,
     "end_time": "2021-01-15T12:33:40.884558",
     "exception": false,
     "start_time": "2021-01-15T12:33:40.794406",
     "status": "completed"
    },
    "tags": []
   },
   "outputs": [],
   "source": [
    "def process_age_type(row):\n",
    "    age = row.Age\n",
    "    if age < 18:\n",
    "        return \"child\"\n",
    "    elif age < 40:\n",
    "        return \"adult\"\n",
    "    elif age < 60:\n",
    "        return \"middle_aged\"\n",
    "    else:\n",
    "        return \"old\"\n",
    "combined[\"Age_type\"] = combined.apply(process_age_type, axis=1)"
   ]
  },
  {
   "cell_type": "code",
   "execution_count": 18,
   "metadata": {
    "execution": {
     "iopub.execute_input": "2021-01-15T12:33:40.992522Z",
     "iopub.status.busy": "2021-01-15T12:33:40.991688Z",
     "iopub.status.idle": "2021-01-15T12:33:40.997601Z",
     "shell.execute_reply": "2021-01-15T12:33:40.997169Z"
    },
    "papermill": {
     "duration": 0.061771,
     "end_time": "2021-01-15T12:33:40.997697",
     "exception": false,
     "start_time": "2021-01-15T12:33:40.935926",
     "status": "completed"
    },
    "tags": []
   },
   "outputs": [
    {
     "data": {
      "text/plain": [
       "Survived     418\n",
       "Pclass         0\n",
       "Name           0\n",
       "Sex            0\n",
       "Age            0\n",
       "SibSp          0\n",
       "Parch          0\n",
       "Ticket         0\n",
       "Fare           1\n",
       "Cabin       1014\n",
       "Embarked       0\n",
       "Age_type       0\n",
       "dtype: int64"
      ]
     },
     "execution_count": 18,
     "metadata": {},
     "output_type": "execute_result"
    }
   ],
   "source": [
    "combined.isnull().sum()"
   ]
  },
  {
   "cell_type": "code",
   "execution_count": 19,
   "metadata": {
    "execution": {
     "iopub.execute_input": "2021-01-15T12:33:41.104855Z",
     "iopub.status.busy": "2021-01-15T12:33:41.104194Z",
     "iopub.status.idle": "2021-01-15T12:33:41.108172Z",
     "shell.execute_reply": "2021-01-15T12:33:41.107596Z"
    },
    "papermill": {
     "duration": 0.060469,
     "end_time": "2021-01-15T12:33:41.108270",
     "exception": false,
     "start_time": "2021-01-15T12:33:41.047801",
     "status": "completed"
    },
    "tags": []
   },
   "outputs": [
    {
     "data": {
      "text/plain": [
       "Survived                                           0\n",
       "Pclass                                             3\n",
       "Name        Johnston, Miss. Catherine Helen \"Carrie\"\n",
       "Sex                                           female\n",
       "Age                                               18\n",
       "SibSp                                              1\n",
       "Parch                                              2\n",
       "Ticket                                    W./C. 6607\n",
       "Fare                                           23.45\n",
       "Cabin                                            NaN\n",
       "Embarked                                           S\n",
       "Age_type                                       adult\n",
       "Name: 889, dtype: object"
      ]
     },
     "execution_count": 19,
     "metadata": {},
     "output_type": "execute_result"
    }
   ],
   "source": [
    "combined.loc[889]"
   ]
  },
  {
   "cell_type": "code",
   "execution_count": 20,
   "metadata": {
    "execution": {
     "iopub.execute_input": "2021-01-15T12:33:41.218218Z",
     "iopub.status.busy": "2021-01-15T12:33:41.216381Z",
     "iopub.status.idle": "2021-01-15T12:33:41.360474Z",
     "shell.execute_reply": "2021-01-15T12:33:41.359891Z"
    },
    "papermill": {
     "duration": 0.20095,
     "end_time": "2021-01-15T12:33:41.360576",
     "exception": false,
     "start_time": "2021-01-15T12:33:41.159626",
     "status": "completed"
    },
    "tags": []
   },
   "outputs": [
    {
     "data": {
      "text/plain": [
       "<matplotlib.axes._subplots.AxesSubplot at 0x7fdf1377e810>"
      ]
     },
     "execution_count": 20,
     "metadata": {},
     "output_type": "execute_result"
    },
    {
     "data": {
      "image/png": "[encoded data removed]",
      "text/plain": [
       "<Figure size 432x288 with 1 Axes>"
      ]
     },
     "metadata": {
      "needs_background": "light"
     },
     "output_type": "display_data"
    }
   ],
   "source": [
    "sns.boxplot(x= 'Pclass',y ='Fare',data = combined)"
   ]
  },
  {
   "cell_type": "code",
   "execution_count": 21,
   "metadata": {
    "execution": {
     "iopub.execute_input": "2021-01-15T12:33:41.486500Z",
     "iopub.status.busy": "2021-01-15T12:33:41.485673Z",
     "iopub.status.idle": "2021-01-15T12:33:41.489383Z",
     "shell.execute_reply": "2021-01-15T12:33:41.489805Z"
    },
    "papermill": {
     "duration": 0.073435,
     "end_time": "2021-01-15T12:33:41.489927",
     "exception": false,
     "start_time": "2021-01-15T12:33:41.416492",
     "status": "completed"
    },
    "tags": []
   },
   "outputs": [
    {
     "data": {
      "text/html": [
       "<div>\n",
       "<style scoped>\n",
       "    .dataframe tbody tr th:only-of-type {\n",
       "        vertical-align: middle;\n",
       "    }\n",
       "\n",
       "    .dataframe tbody tr th {\n",
       "        vertical-align: top;\n",
       "    }\n",
       "\n",
       "    .dataframe thead th {\n",
       "        text-align: right;\n",
       "    }\n",
       "</style>\n",
       "<table border=\"1\" class=\"dataframe\">\n",
       "  <thead>\n",
       "    <tr style=\"text-align: right;\">\n",
       "      <th></th>\n",
       "      <th>Pclass</th>\n",
       "      <th>Name</th>\n",
       "      <th>Sex</th>\n",
       "      <th>Age</th>\n",
       "      <th>SibSp</th>\n",
       "      <th>Parch</th>\n",
       "      <th>Ticket</th>\n",
       "      <th>Fare</th>\n",
       "      <th>Cabin</th>\n",
       "      <th>Embarked</th>\n",
       "    </tr>\n",
       "    <tr>\n",
       "      <th>PassengerId</th>\n",
       "      <th></th>\n",
       "      <th></th>\n",
       "      <th></th>\n",
       "      <th></th>\n",
       "      <th></th>\n",
       "      <th></th>\n",
       "      <th></th>\n",
       "      <th></th>\n",
       "      <th></th>\n",
       "      <th></th>\n",
       "    </tr>\n",
       "  </thead>\n",
       "  <tbody>\n",
       "    <tr>\n",
       "      <th>1044</th>\n",
       "      <td>3</td>\n",
       "      <td>Storey, Mr. Thomas</td>\n",
       "      <td>male</td>\n",
       "      <td>60.5</td>\n",
       "      <td>0</td>\n",
       "      <td>0</td>\n",
       "      <td>3701</td>\n",
       "      <td>NaN</td>\n",
       "      <td>NaN</td>\n",
       "      <td>S</td>\n",
       "    </tr>\n",
       "  </tbody>\n",
       "</table>\n",
       "</div>"
      ],
      "text/plain": [
       "             Pclass                Name   Sex   Age  SibSp  Parch Ticket  \\\n",
       "PassengerId                                                                \n",
       "1044              3  Storey, Mr. Thomas  male  60.5      0      0   3701   \n",
       "\n",
       "             Fare Cabin Embarked  \n",
       "PassengerId                       \n",
       "1044          NaN   NaN        S  "
      ]
     },
     "execution_count": 21,
     "metadata": {},
     "output_type": "execute_result"
    }
   ],
   "source": [
    "test_data[test_data.Fare.isnull()]"
   ]
  },
  {
   "cell_type": "code",
   "execution_count": 22,
   "metadata": {
    "execution": {
     "iopub.execute_input": "2021-01-15T12:33:41.599698Z",
     "iopub.status.busy": "2021-01-15T12:33:41.599110Z",
     "iopub.status.idle": "2021-01-15T12:33:41.602415Z",
     "shell.execute_reply": "2021-01-15T12:33:41.602951Z"
    },
    "papermill": {
     "duration": 0.060696,
     "end_time": "2021-01-15T12:33:41.603070",
     "exception": false,
     "start_time": "2021-01-15T12:33:41.542374",
     "status": "completed"
    },
    "tags": []
   },
   "outputs": [],
   "source": [
    "combined.Fare.fillna(combined[combined.Pclass == 3][\"Fare\"].mode()[0], inplace=True)"
   ]
  },
  {
   "cell_type": "code",
   "execution_count": 23,
   "metadata": {
    "execution": {
     "iopub.execute_input": "2021-01-15T12:33:41.711751Z",
     "iopub.status.busy": "2021-01-15T12:33:41.711163Z",
     "iopub.status.idle": "2021-01-15T12:33:41.714995Z",
     "shell.execute_reply": "2021-01-15T12:33:41.715499Z"
    },
    "papermill": {
     "duration": 0.05968,
     "end_time": "2021-01-15T12:33:41.715637",
     "exception": false,
     "start_time": "2021-01-15T12:33:41.655957",
     "status": "completed"
    },
    "tags": []
   },
   "outputs": [],
   "source": [
    "combined.Fare = combined.Fare.round()"
   ]
  },
  {
   "cell_type": "code",
   "execution_count": 24,
   "metadata": {
    "execution": {
     "iopub.execute_input": "2021-01-15T12:33:41.825243Z",
     "iopub.status.busy": "2021-01-15T12:33:41.824623Z",
     "iopub.status.idle": "2021-01-15T12:33:45.706561Z",
     "shell.execute_reply": "2021-01-15T12:33:45.706070Z"
    },
    "papermill": {
     "duration": 3.937685,
     "end_time": "2021-01-15T12:33:45.706674",
     "exception": false,
     "start_time": "2021-01-15T12:33:41.768989",
     "status": "completed"
    },
    "tags": []
   },
   "outputs": [
    {
     "data": {
      "image/png": "[encoded data removed]",
      "text/plain": [
       "<Figure size 1194.38x720 with 2 Axes>"
      ]
     },
     "metadata": {
      "needs_background": "light"
     },
     "output_type": "display_data"
    }
   ],
   "source": [
    "ax = sns.catplot(x=\"Age\", col=\"Survived\",hue=\"Pclass\",\n",
    "                data=train_data, kind=\"count\",\n",
    "                height=10, aspect=0.8, orient=\"h\");"
   ]
  },
  {
   "cell_type": "code",
   "execution_count": 25,
   "metadata": {
    "execution": {
     "iopub.execute_input": "2021-01-15T12:33:45.822114Z",
     "iopub.status.busy": "2021-01-15T12:33:45.821282Z",
     "iopub.status.idle": "2021-01-15T12:33:45.824569Z",
     "shell.execute_reply": "2021-01-15T12:33:45.825047Z"
    },
    "papermill": {
     "duration": 0.065361,
     "end_time": "2021-01-15T12:33:45.825194",
     "exception": false,
     "start_time": "2021-01-15T12:33:45.759833",
     "status": "completed"
    },
    "tags": []
   },
   "outputs": [
    {
     "data": {
      "text/plain": [
       "(30.62617924528302, 28.343689655172415)"
      ]
     },
     "execution_count": 25,
     "metadata": {},
     "output_type": "execute_result"
    }
   ],
   "source": [
    "train_data[train_data.Survived==0][\"Age\"].mean() , train_data[train_data.Survived==1][\"Age\"].mean()"
   ]
  },
  {
   "cell_type": "code",
   "execution_count": 26,
   "metadata": {
    "execution": {
     "iopub.execute_input": "2021-01-15T12:33:45.937715Z",
     "iopub.status.busy": "2021-01-15T12:33:45.936851Z",
     "iopub.status.idle": "2021-01-15T12:33:45.946104Z",
     "shell.execute_reply": "2021-01-15T12:33:45.945637Z"
    },
    "papermill": {
     "duration": 0.066078,
     "end_time": "2021-01-15T12:33:45.946196",
     "exception": false,
     "start_time": "2021-01-15T12:33:45.880118",
     "status": "completed"
    },
    "tags": []
   },
   "outputs": [
    {
     "data": {
      "text/plain": [
       "0    32.0\n",
       "dtype: float64"
      ]
     },
     "execution_count": 26,
     "metadata": {},
     "output_type": "execute_result"
    }
   ],
   "source": [
    "train_data[(train_data.Survived==1) & (train_data.Sex == \"male\")][\"Age\"].mode()"
   ]
  },
  {
   "cell_type": "code",
   "execution_count": 27,
   "metadata": {
    "execution": {
     "iopub.execute_input": "2021-01-15T12:33:46.061958Z",
     "iopub.status.busy": "2021-01-15T12:33:46.061354Z",
     "iopub.status.idle": "2021-01-15T12:33:46.063933Z",
     "shell.execute_reply": "2021-01-15T12:33:46.064400Z"
    },
    "papermill": {
     "duration": 0.063894,
     "end_time": "2021-01-15T12:33:46.064545",
     "exception": false,
     "start_time": "2021-01-15T12:33:46.000651",
     "status": "completed"
    },
    "tags": []
   },
   "outputs": [
    {
     "data": {
      "text/plain": [
       "array([nan, 'C85', 'C123', 'E46', 'G6', 'C103', 'D56', 'A6',\n",
       "       'C23 C25 C27', 'B78', 'D33', 'B30', 'C52', 'B28', 'C83', 'F33',\n",
       "       'F G73', 'E31', 'A5', 'D10 D12', 'D26', 'C110', 'B58 B60', 'E101',\n",
       "       'F E69', 'D47', 'B86', 'F2', 'C2', 'E33', 'B19', 'A7', 'C49', 'F4',\n",
       "       'A32', 'B4', 'B80', 'A31', 'D36', 'D15', 'C93', 'C78', 'D35',\n",
       "       'C87', 'B77', 'E67', 'B94', 'C125', 'C99', 'C118', 'D7', 'A19',\n",
       "       'B49', 'D', 'C22 C26', 'C106', 'C65', 'E36', 'C54',\n",
       "       'B57 B59 B63 B66', 'C7', 'E34', 'C32', 'B18', 'C124', 'C91', 'E40',\n",
       "       'T', 'C128', 'D37', 'B35', 'E50', 'C82', 'B96 B98', 'E10', 'E44',\n",
       "       'A34', 'C104', 'C111', 'C92', 'E38', 'D21', 'E12', 'E63', 'A14',\n",
       "       'B37', 'C30', 'D20', 'B79', 'E25', 'D46', 'B73', 'C95', 'B38',\n",
       "       'B39', 'B22', 'C86', 'C70', 'A16', 'C101', 'C68', 'A10', 'E68',\n",
       "       'B41', 'A20', 'D19', 'D50', 'D9', 'A23', 'B50', 'A26', 'D48',\n",
       "       'E58', 'C126', 'B71', 'B51 B53 B55', 'D49', 'B5', 'B20', 'F G63',\n",
       "       'C62 C64', 'E24', 'C90', 'C45', 'E8', 'B101', 'D45', 'C46', 'D30',\n",
       "       'E121', 'D11', 'E77', 'F38', 'B3', 'D6', 'B82 B84', 'D17', 'A36',\n",
       "       'B102', 'B69', 'E49', 'C47', 'D28', 'E17', 'A24', 'C50', 'B42',\n",
       "       'C148'], dtype=object)"
      ]
     },
     "execution_count": 27,
     "metadata": {},
     "output_type": "execute_result"
    }
   ],
   "source": [
    "train_data[\"Cabin\"].unique()"
   ]
  },
  {
   "cell_type": "code",
   "execution_count": 28,
   "metadata": {
    "execution": {
     "iopub.execute_input": "2021-01-15T12:33:46.177563Z",
     "iopub.status.busy": "2021-01-15T12:33:46.177008Z",
     "iopub.status.idle": "2021-01-15T12:33:46.205548Z",
     "shell.execute_reply": "2021-01-15T12:33:46.206081Z"
    },
    "papermill": {
     "duration": 0.086184,
     "end_time": "2021-01-15T12:33:46.206200",
     "exception": false,
     "start_time": "2021-01-15T12:33:46.120016",
     "status": "completed"
    },
    "tags": []
   },
   "outputs": [
    {
     "data": {
      "text/plain": [
       "PassengerId\n",
       "1    U\n",
       "2    C\n",
       "3    U\n",
       "4    C\n",
       "5    U\n",
       "Name: Deck, dtype: object"
      ]
     },
     "execution_count": 28,
     "metadata": {},
     "output_type": "execute_result"
    }
   ],
   "source": [
    "def process_deck(row):\n",
    "    cabin = row.Cabin\n",
    "    if pd.isnull(cabin):\n",
    "        return \"U\"\n",
    "    else:\n",
    "        return cabin[0]\n",
    "combined[\"Deck\"] = combined.apply(process_deck, axis=1)\n",
    "combined[\"Deck\"].head()"
   ]
  },
  {
   "cell_type": "code",
   "execution_count": 29,
   "metadata": {
    "execution": {
     "iopub.execute_input": "2021-01-15T12:33:46.320794Z",
     "iopub.status.busy": "2021-01-15T12:33:46.320119Z",
     "iopub.status.idle": "2021-01-15T12:33:47.468786Z",
     "shell.execute_reply": "2021-01-15T12:33:47.469205Z"
    },
    "papermill": {
     "duration": 1.207683,
     "end_time": "2021-01-15T12:33:47.469337",
     "exception": false,
     "start_time": "2021-01-15T12:33:46.261654",
     "status": "completed"
    },
    "tags": []
   },
   "outputs": [
    {
     "data": {
      "text/plain": [
       "<seaborn.axisgrid.FacetGrid at 0x7fdf10bdb550>"
      ]
     },
     "execution_count": 29,
     "metadata": {},
     "output_type": "execute_result"
    },
    {
     "data": {
      "image/png": "[encoded data removed]",
      "text/plain": [
       "<Figure size 921.6x576 with 8 Axes>"
      ]
     },
     "metadata": {
      "needs_background": "light"
     },
     "output_type": "display_data"
    }
   ],
   "source": [
    "sns.catplot(x=\"Pclass\", col=\"Deck\", col_wrap=4,\n",
    "                data=combined[combined.Deck != \"U\"],\n",
    "                kind=\"count\", height=4, aspect=.8)"
   ]
  },
  {
   "cell_type": "code",
   "execution_count": 30,
   "metadata": {
    "execution": {
     "iopub.execute_input": "2021-01-15T12:33:47.589353Z",
     "iopub.status.busy": "2021-01-15T12:33:47.588829Z",
     "iopub.status.idle": "2021-01-15T12:33:48.542503Z",
     "shell.execute_reply": "2021-01-15T12:33:48.541891Z"
    },
    "papermill": {
     "duration": 1.015374,
     "end_time": "2021-01-15T12:33:48.542595",
     "exception": false,
     "start_time": "2021-01-15T12:33:47.527221",
     "status": "completed"
    },
    "tags": []
   },
   "outputs": [
    {
     "data": {
      "text/plain": [
       "<seaborn.axisgrid.FacetGrid at 0x7fdf10ae8e10>"
      ]
     },
     "execution_count": 30,
     "metadata": {},
     "output_type": "execute_result"
    },
    {
     "data": {
      "image/png": "[encoded data removed]",
      "text/plain": [
       "<Figure size 576x360 with 8 Axes>"
      ]
     },
     "metadata": {
      "needs_background": "light"
     },
     "output_type": "display_data"
    }
   ],
   "source": [
    "sns.catplot(x=\"Survived\", col=\"Deck\", col_wrap=4,\n",
    "                data=combined[combined.Deck != \"U\"],\n",
    "                kind=\"count\", height=2.5, aspect=.8)"
   ]
  },
  {
   "cell_type": "code",
   "execution_count": 31,
   "metadata": {
    "execution": {
     "iopub.execute_input": "2021-01-15T12:33:48.684808Z",
     "iopub.status.busy": "2021-01-15T12:33:48.684006Z",
     "iopub.status.idle": "2021-01-15T12:33:48.688382Z",
     "shell.execute_reply": "2021-01-15T12:33:48.688794Z"
    },
    "papermill": {
     "duration": 0.086934,
     "end_time": "2021-01-15T12:33:48.688933",
     "exception": false,
     "start_time": "2021-01-15T12:33:48.601999",
     "status": "completed"
    },
    "tags": []
   },
   "outputs": [
    {
     "data": {
      "text/html": [
       "<div>\n",
       "<style scoped>\n",
       "    .dataframe tbody tr th:only-of-type {\n",
       "        vertical-align: middle;\n",
       "    }\n",
       "\n",
       "    .dataframe tbody tr th {\n",
       "        vertical-align: top;\n",
       "    }\n",
       "\n",
       "    .dataframe thead th {\n",
       "        text-align: right;\n",
       "    }\n",
       "</style>\n",
       "<table border=\"1\" class=\"dataframe\">\n",
       "  <thead>\n",
       "    <tr style=\"text-align: right;\">\n",
       "      <th></th>\n",
       "      <th>Survived</th>\n",
       "      <th>Pclass</th>\n",
       "      <th>Name</th>\n",
       "      <th>Sex</th>\n",
       "      <th>Age</th>\n",
       "      <th>SibSp</th>\n",
       "      <th>Parch</th>\n",
       "      <th>Ticket</th>\n",
       "      <th>Fare</th>\n",
       "      <th>Cabin</th>\n",
       "      <th>Embarked</th>\n",
       "      <th>Age_type</th>\n",
       "      <th>Deck</th>\n",
       "    </tr>\n",
       "    <tr>\n",
       "      <th>PassengerId</th>\n",
       "      <th></th>\n",
       "      <th></th>\n",
       "      <th></th>\n",
       "      <th></th>\n",
       "      <th></th>\n",
       "      <th></th>\n",
       "      <th></th>\n",
       "      <th></th>\n",
       "      <th></th>\n",
       "      <th></th>\n",
       "      <th></th>\n",
       "      <th></th>\n",
       "      <th></th>\n",
       "    </tr>\n",
       "  </thead>\n",
       "  <tbody>\n",
       "    <tr>\n",
       "      <th>180</th>\n",
       "      <td>0.0</td>\n",
       "      <td>3</td>\n",
       "      <td>Leonard, Mr. Lionel</td>\n",
       "      <td>male</td>\n",
       "      <td>36.0</td>\n",
       "      <td>0</td>\n",
       "      <td>0</td>\n",
       "      <td>LINE</td>\n",
       "      <td>0.0</td>\n",
       "      <td>NaN</td>\n",
       "      <td>S</td>\n",
       "      <td>adult</td>\n",
       "      <td>U</td>\n",
       "    </tr>\n",
       "    <tr>\n",
       "      <th>264</th>\n",
       "      <td>0.0</td>\n",
       "      <td>1</td>\n",
       "      <td>Harrison, Mr. William</td>\n",
       "      <td>male</td>\n",
       "      <td>40.0</td>\n",
       "      <td>0</td>\n",
       "      <td>0</td>\n",
       "      <td>112059</td>\n",
       "      <td>0.0</td>\n",
       "      <td>B94</td>\n",
       "      <td>S</td>\n",
       "      <td>middle_aged</td>\n",
       "      <td>B</td>\n",
       "    </tr>\n",
       "    <tr>\n",
       "      <th>272</th>\n",
       "      <td>1.0</td>\n",
       "      <td>3</td>\n",
       "      <td>Tornquist, Mr. William Henry</td>\n",
       "      <td>male</td>\n",
       "      <td>25.0</td>\n",
       "      <td>0</td>\n",
       "      <td>0</td>\n",
       "      <td>LINE</td>\n",
       "      <td>0.0</td>\n",
       "      <td>NaN</td>\n",
       "      <td>S</td>\n",
       "      <td>adult</td>\n",
       "      <td>U</td>\n",
       "    </tr>\n",
       "    <tr>\n",
       "      <th>278</th>\n",
       "      <td>0.0</td>\n",
       "      <td>2</td>\n",
       "      <td>Parkes, Mr. Francis \"Frank\"</td>\n",
       "      <td>male</td>\n",
       "      <td>30.0</td>\n",
       "      <td>0</td>\n",
       "      <td>0</td>\n",
       "      <td>239853</td>\n",
       "      <td>0.0</td>\n",
       "      <td>NaN</td>\n",
       "      <td>S</td>\n",
       "      <td>adult</td>\n",
       "      <td>U</td>\n",
       "    </tr>\n",
       "    <tr>\n",
       "      <th>303</th>\n",
       "      <td>0.0</td>\n",
       "      <td>3</td>\n",
       "      <td>Johnson, Mr. William Cahoone Jr</td>\n",
       "      <td>male</td>\n",
       "      <td>19.0</td>\n",
       "      <td>0</td>\n",
       "      <td>0</td>\n",
       "      <td>LINE</td>\n",
       "      <td>0.0</td>\n",
       "      <td>NaN</td>\n",
       "      <td>S</td>\n",
       "      <td>adult</td>\n",
       "      <td>U</td>\n",
       "    </tr>\n",
       "    <tr>\n",
       "      <th>414</th>\n",
       "      <td>0.0</td>\n",
       "      <td>2</td>\n",
       "      <td>Cunningham, Mr. Alfred Fleming</td>\n",
       "      <td>male</td>\n",
       "      <td>30.0</td>\n",
       "      <td>0</td>\n",
       "      <td>0</td>\n",
       "      <td>239853</td>\n",
       "      <td>0.0</td>\n",
       "      <td>NaN</td>\n",
       "      <td>S</td>\n",
       "      <td>adult</td>\n",
       "      <td>U</td>\n",
       "    </tr>\n",
       "    <tr>\n",
       "      <th>467</th>\n",
       "      <td>0.0</td>\n",
       "      <td>2</td>\n",
       "      <td>Campbell, Mr. William</td>\n",
       "      <td>male</td>\n",
       "      <td>30.0</td>\n",
       "      <td>0</td>\n",
       "      <td>0</td>\n",
       "      <td>239853</td>\n",
       "      <td>0.0</td>\n",
       "      <td>NaN</td>\n",
       "      <td>S</td>\n",
       "      <td>adult</td>\n",
       "      <td>U</td>\n",
       "    </tr>\n",
       "    <tr>\n",
       "      <th>482</th>\n",
       "      <td>0.0</td>\n",
       "      <td>2</td>\n",
       "      <td>Frost, Mr. Anthony Wood \"Archie\"</td>\n",
       "      <td>male</td>\n",
       "      <td>30.0</td>\n",
       "      <td>0</td>\n",
       "      <td>0</td>\n",
       "      <td>239854</td>\n",
       "      <td>0.0</td>\n",
       "      <td>NaN</td>\n",
       "      <td>S</td>\n",
       "      <td>adult</td>\n",
       "      <td>U</td>\n",
       "    </tr>\n",
       "    <tr>\n",
       "      <th>598</th>\n",
       "      <td>0.0</td>\n",
       "      <td>3</td>\n",
       "      <td>Johnson, Mr. Alfred</td>\n",
       "      <td>male</td>\n",
       "      <td>49.0</td>\n",
       "      <td>0</td>\n",
       "      <td>0</td>\n",
       "      <td>LINE</td>\n",
       "      <td>0.0</td>\n",
       "      <td>NaN</td>\n",
       "      <td>S</td>\n",
       "      <td>middle_aged</td>\n",
       "      <td>U</td>\n",
       "    </tr>\n",
       "    <tr>\n",
       "      <th>634</th>\n",
       "      <td>0.0</td>\n",
       "      <td>1</td>\n",
       "      <td>Parr, Mr. William Henry Marsh</td>\n",
       "      <td>male</td>\n",
       "      <td>36.0</td>\n",
       "      <td>0</td>\n",
       "      <td>0</td>\n",
       "      <td>112052</td>\n",
       "      <td>0.0</td>\n",
       "      <td>NaN</td>\n",
       "      <td>S</td>\n",
       "      <td>adult</td>\n",
       "      <td>U</td>\n",
       "    </tr>\n",
       "    <tr>\n",
       "      <th>675</th>\n",
       "      <td>0.0</td>\n",
       "      <td>2</td>\n",
       "      <td>Watson, Mr. Ennis Hastings</td>\n",
       "      <td>male</td>\n",
       "      <td>30.0</td>\n",
       "      <td>0</td>\n",
       "      <td>0</td>\n",
       "      <td>239856</td>\n",
       "      <td>0.0</td>\n",
       "      <td>NaN</td>\n",
       "      <td>S</td>\n",
       "      <td>adult</td>\n",
       "      <td>U</td>\n",
       "    </tr>\n",
       "    <tr>\n",
       "      <th>733</th>\n",
       "      <td>0.0</td>\n",
       "      <td>2</td>\n",
       "      <td>Knight, Mr. Robert J</td>\n",
       "      <td>male</td>\n",
       "      <td>30.0</td>\n",
       "      <td>0</td>\n",
       "      <td>0</td>\n",
       "      <td>239855</td>\n",
       "      <td>0.0</td>\n",
       "      <td>NaN</td>\n",
       "      <td>S</td>\n",
       "      <td>adult</td>\n",
       "      <td>U</td>\n",
       "    </tr>\n",
       "    <tr>\n",
       "      <th>807</th>\n",
       "      <td>0.0</td>\n",
       "      <td>1</td>\n",
       "      <td>Andrews, Mr. Thomas Jr</td>\n",
       "      <td>male</td>\n",
       "      <td>39.0</td>\n",
       "      <td>0</td>\n",
       "      <td>0</td>\n",
       "      <td>112050</td>\n",
       "      <td>0.0</td>\n",
       "      <td>A36</td>\n",
       "      <td>S</td>\n",
       "      <td>adult</td>\n",
       "      <td>A</td>\n",
       "    </tr>\n",
       "    <tr>\n",
       "      <th>816</th>\n",
       "      <td>0.0</td>\n",
       "      <td>1</td>\n",
       "      <td>Fry, Mr. Richard</td>\n",
       "      <td>male</td>\n",
       "      <td>36.0</td>\n",
       "      <td>0</td>\n",
       "      <td>0</td>\n",
       "      <td>112058</td>\n",
       "      <td>0.0</td>\n",
       "      <td>B102</td>\n",
       "      <td>S</td>\n",
       "      <td>adult</td>\n",
       "      <td>B</td>\n",
       "    </tr>\n",
       "    <tr>\n",
       "      <th>823</th>\n",
       "      <td>0.0</td>\n",
       "      <td>1</td>\n",
       "      <td>Reuchlin, Jonkheer. John George</td>\n",
       "      <td>male</td>\n",
       "      <td>38.0</td>\n",
       "      <td>0</td>\n",
       "      <td>0</td>\n",
       "      <td>19972</td>\n",
       "      <td>0.0</td>\n",
       "      <td>NaN</td>\n",
       "      <td>S</td>\n",
       "      <td>adult</td>\n",
       "      <td>U</td>\n",
       "    </tr>\n",
       "    <tr>\n",
       "      <th>1158</th>\n",
       "      <td>NaN</td>\n",
       "      <td>1</td>\n",
       "      <td>Chisholm, Mr. Roderick Robert Crispin</td>\n",
       "      <td>male</td>\n",
       "      <td>36.0</td>\n",
       "      <td>0</td>\n",
       "      <td>0</td>\n",
       "      <td>112051</td>\n",
       "      <td>0.0</td>\n",
       "      <td>NaN</td>\n",
       "      <td>S</td>\n",
       "      <td>adult</td>\n",
       "      <td>U</td>\n",
       "    </tr>\n",
       "    <tr>\n",
       "      <th>1264</th>\n",
       "      <td>NaN</td>\n",
       "      <td>1</td>\n",
       "      <td>Ismay, Mr. Joseph Bruce</td>\n",
       "      <td>male</td>\n",
       "      <td>49.0</td>\n",
       "      <td>0</td>\n",
       "      <td>0</td>\n",
       "      <td>112058</td>\n",
       "      <td>0.0</td>\n",
       "      <td>B52 B54 B56</td>\n",
       "      <td>S</td>\n",
       "      <td>middle_aged</td>\n",
       "      <td>B</td>\n",
       "    </tr>\n",
       "  </tbody>\n",
       "</table>\n",
       "</div>"
      ],
      "text/plain": [
       "             Survived  Pclass                                   Name   Sex  \\\n",
       "PassengerId                                                                  \n",
       "180               0.0       3                    Leonard, Mr. Lionel  male   \n",
       "264               0.0       1                  Harrison, Mr. William  male   \n",
       "272               1.0       3           Tornquist, Mr. William Henry  male   \n",
       "278               0.0       2            Parkes, Mr. Francis \"Frank\"  male   \n",
       "303               0.0       3        Johnson, Mr. William Cahoone Jr  male   \n",
       "414               0.0       2         Cunningham, Mr. Alfred Fleming  male   \n",
       "467               0.0       2                  Campbell, Mr. William  male   \n",
       "482               0.0       2       Frost, Mr. Anthony Wood \"Archie\"  male   \n",
       "598               0.0       3                    Johnson, Mr. Alfred  male   \n",
       "634               0.0       1          Parr, Mr. William Henry Marsh  male   \n",
       "675               0.0       2             Watson, Mr. Ennis Hastings  male   \n",
       "733               0.0       2                   Knight, Mr. Robert J  male   \n",
       "807               0.0       1                 Andrews, Mr. Thomas Jr  male   \n",
       "816               0.0       1                       Fry, Mr. Richard  male   \n",
       "823               0.0       1        Reuchlin, Jonkheer. John George  male   \n",
       "1158              NaN       1  Chisholm, Mr. Roderick Robert Crispin  male   \n",
       "1264              NaN       1                Ismay, Mr. Joseph Bruce  male   \n",
       "\n",
       "              Age  SibSp  Parch  Ticket  Fare        Cabin Embarked  \\\n",
       "PassengerId                                                           \n",
       "180          36.0      0      0    LINE   0.0          NaN        S   \n",
       "264          40.0      0      0  112059   0.0          B94        S   \n",
       "272          25.0      0      0    LINE   0.0          NaN        S   \n",
       "278          30.0      0      0  239853   0.0          NaN        S   \n",
       "303          19.0      0      0    LINE   0.0          NaN        S   \n",
       "414          30.0      0      0  239853   0.0          NaN        S   \n",
       "467          30.0      0      0  239853   0.0          NaN        S   \n",
       "482          30.0      0      0  239854   0.0          NaN        S   \n",
       "598          49.0      0      0    LINE   0.0          NaN        S   \n",
       "634          36.0      0      0  112052   0.0          NaN        S   \n",
       "675          30.0      0      0  239856   0.0          NaN        S   \n",
       "733          30.0      0      0  239855   0.0          NaN        S   \n",
       "807          39.0      0      0  112050   0.0          A36        S   \n",
       "816          36.0      0      0  112058   0.0         B102        S   \n",
       "823          38.0      0      0   19972   0.0          NaN        S   \n",
       "1158         36.0      0      0  112051   0.0          NaN        S   \n",
       "1264         49.0      0      0  112058   0.0  B52 B54 B56        S   \n",
       "\n",
       "                Age_type Deck  \n",
       "PassengerId                    \n",
       "180                adult    U  \n",
       "264          middle_aged    B  \n",
       "272                adult    U  \n",
       "278                adult    U  \n",
       "303                adult    U  \n",
       "414                adult    U  \n",
       "467                adult    U  \n",
       "482                adult    U  \n",
       "598          middle_aged    U  \n",
       "634                adult    U  \n",
       "675                adult    U  \n",
       "733                adult    U  \n",
       "807                adult    A  \n",
       "816                adult    B  \n",
       "823                adult    U  \n",
       "1158               adult    U  \n",
       "1264         middle_aged    B  "
      ]
     },
     "execution_count": 31,
     "metadata": {},
     "output_type": "execute_result"
    }
   ],
   "source": [
    "combined[combined.Fare == 0.0]"
   ]
  },
  {
   "cell_type": "code",
   "execution_count": 32,
   "metadata": {
    "execution": {
     "iopub.execute_input": "2021-01-15T12:33:48.813610Z",
     "iopub.status.busy": "2021-01-15T12:33:48.813047Z",
     "iopub.status.idle": "2021-01-15T12:33:48.822520Z",
     "shell.execute_reply": "2021-01-15T12:33:48.822096Z"
    },
    "papermill": {
     "duration": 0.074292,
     "end_time": "2021-01-15T12:33:48.822631",
     "exception": false,
     "start_time": "2021-01-15T12:33:48.748339",
     "status": "completed"
    },
    "tags": []
   },
   "outputs": [
    {
     "data": {
      "text/plain": [
       "Pclass  Deck\n",
       "1       A       35.5\n",
       "        B       82.0\n",
       "        C       86.0\n",
       "        D       53.0\n",
       "        E       55.0\n",
       "        T       36.0\n",
       "        U       40.0\n",
       "2       D       13.5\n",
       "        E       11.0\n",
       "        F       26.0\n",
       "        U       16.0\n",
       "3       E       12.0\n",
       "        F        8.0\n",
       "        G       17.0\n",
       "        U        8.0\n",
       "Name: Fare, dtype: float64"
      ]
     },
     "execution_count": 32,
     "metadata": {},
     "output_type": "execute_result"
    }
   ],
   "source": [
    "combined.groupby([\"Pclass\", \"Deck\"]).median()[\"Fare\"]"
   ]
  },
  {
   "cell_type": "code",
   "execution_count": 33,
   "metadata": {
    "execution": {
     "iopub.execute_input": "2021-01-15T12:33:48.951009Z",
     "iopub.status.busy": "2021-01-15T12:33:48.947731Z",
     "iopub.status.idle": "2021-01-15T12:33:48.958075Z",
     "shell.execute_reply": "2021-01-15T12:33:48.958471Z"
    },
    "papermill": {
     "duration": 0.076233,
     "end_time": "2021-01-15T12:33:48.958608",
     "exception": false,
     "start_time": "2021-01-15T12:33:48.882375",
     "status": "completed"
    },
    "tags": []
   },
   "outputs": [
    {
     "data": {
      "text/plain": [
       "Pclass  Deck\n",
       "1       A        41.363636\n",
       "        B       122.353846\n",
       "        C       107.989362\n",
       "        D        58.900000\n",
       "        E        63.382353\n",
       "        T        36.000000\n",
       "        U        70.358209\n",
       "2       D        13.666667\n",
       "        E        11.250000\n",
       "        F        23.307692\n",
       "        U        21.393701\n",
       "3       E        10.666667\n",
       "        F         9.500000\n",
       "        G        14.200000\n",
       "        U        13.365079\n",
       "Name: Fare, dtype: float64"
      ]
     },
     "execution_count": 33,
     "metadata": {},
     "output_type": "execute_result"
    }
   ],
   "source": [
    "combined.groupby([\"Pclass\", \"Deck\"]).mean()[\"Fare\"]"
   ]
  },
  {
   "cell_type": "code",
   "execution_count": 34,
   "metadata": {
    "execution": {
     "iopub.execute_input": "2021-01-15T12:33:49.106144Z",
     "iopub.status.busy": "2021-01-15T12:33:49.100984Z",
     "iopub.status.idle": "2021-01-15T12:33:49.163080Z",
     "shell.execute_reply": "2021-01-15T12:33:49.162557Z"
    },
    "papermill": {
     "duration": 0.139459,
     "end_time": "2021-01-15T12:33:49.163176",
     "exception": false,
     "start_time": "2021-01-15T12:33:49.023717",
     "status": "completed"
    },
    "tags": []
   },
   "outputs": [
    {
     "data": {
      "text/plain": [
       "PassengerId\n",
       "1    F\n",
       "2    C\n",
       "3    F\n",
       "4    C\n",
       "5    F\n",
       "Name: Deck, dtype: object"
      ]
     },
     "execution_count": 34,
     "metadata": {},
     "output_type": "execute_result"
    }
   ],
   "source": [
    "def process_unknown_decks(row):\n",
    "    deck = row.Deck\n",
    "    if deck == \"U\":\n",
    "        fare = row.Fare\n",
    "        if fare == 0:\n",
    "            return \"U\"\n",
    "        if row.Pclass == 1:\n",
    "            if fare <= 43:\n",
    "                return \"A\"\n",
    "            elif fare <= 59:\n",
    "                return \"D\"\n",
    "            elif fare <= 63.5:\n",
    "                return \"E\"\n",
    "            elif fare <= 108:\n",
    "                return \"C\"\n",
    "            else:\n",
    "                return \"B\"\n",
    "        elif row.Pclass == 2:\n",
    "            if fare <= 11.6:\n",
    "                return  \"E\"\n",
    "            elif fare <= 13.7:\n",
    "                return \"D\"\n",
    "            else:\n",
    "                return \"F\"\n",
    "        elif row.Pclass == 3:\n",
    "            if fare <= 9.5:\n",
    "                return \"F\"\n",
    "            elif fare <= 12.5:\n",
    "                return \"E\"\n",
    "            else:\n",
    "                return \"G\"\n",
    "            \n",
    "    else:\n",
    "        return deck\n",
    "combined[\"Deck\"] = combined.apply(process_unknown_decks, axis=1)\n",
    "combined[\"Deck\"].head()"
   ]
  },
  {
   "cell_type": "code",
   "execution_count": 35,
   "metadata": {
    "execution": {
     "iopub.execute_input": "2021-01-15T12:33:49.298337Z",
     "iopub.status.busy": "2021-01-15T12:33:49.296428Z",
     "iopub.status.idle": "2021-01-15T12:33:49.302109Z",
     "shell.execute_reply": "2021-01-15T12:33:49.301554Z"
    },
    "papermill": {
     "duration": 0.076549,
     "end_time": "2021-01-15T12:33:49.302219",
     "exception": false,
     "start_time": "2021-01-15T12:33:49.225670",
     "status": "completed"
    },
    "tags": []
   },
   "outputs": [
    {
     "data": {
      "text/plain": [
       "{1: 'C', 2: 'F', 3: 'F'}"
      ]
     },
     "execution_count": 35,
     "metadata": {},
     "output_type": "execute_result"
    }
   ],
   "source": [
    "pclass_deck_mode = {\n",
    "    1:combined[(combined.Pclass==1) & (combined.Deck != 'U')][\"Deck\"].mode()[0],\n",
    "    2:combined[(combined.Pclass==2) & (combined.Deck != 'U')][\"Deck\"].mode()[0],\n",
    "    3:combined[(combined.Pclass==3) & (combined.Deck != 'U')][\"Deck\"].mode()[0],\n",
    "}\n",
    "pclass_deck_mode"
   ]
  },
  {
   "cell_type": "code",
   "execution_count": 36,
   "metadata": {
    "execution": {
     "iopub.execute_input": "2021-01-15T12:33:49.428175Z",
     "iopub.status.busy": "2021-01-15T12:33:49.427669Z",
     "iopub.status.idle": "2021-01-15T12:33:49.431498Z",
     "shell.execute_reply": "2021-01-15T12:33:49.431004Z"
    },
    "papermill": {
     "duration": 0.068197,
     "end_time": "2021-01-15T12:33:49.431610",
     "exception": false,
     "start_time": "2021-01-15T12:33:49.363413",
     "status": "completed"
    },
    "tags": []
   },
   "outputs": [
    {
     "data": {
      "text/plain": [
       "array(['F', 'C', 'E', 'G', 'D', 'A', 'B', 'U', 'T'], dtype=object)"
      ]
     },
     "execution_count": 36,
     "metadata": {},
     "output_type": "execute_result"
    }
   ],
   "source": [
    "combined[\"Deck\"].unique()"
   ]
  },
  {
   "cell_type": "code",
   "execution_count": 37,
   "metadata": {
    "execution": {
     "iopub.execute_input": "2021-01-15T12:33:49.560179Z",
     "iopub.status.busy": "2021-01-15T12:33:49.557734Z",
     "iopub.status.idle": "2021-01-15T12:33:50.678845Z",
     "shell.execute_reply": "2021-01-15T12:33:50.678184Z"
    },
    "papermill": {
     "duration": 1.186796,
     "end_time": "2021-01-15T12:33:50.678951",
     "exception": false,
     "start_time": "2021-01-15T12:33:49.492155",
     "status": "completed"
    },
    "tags": []
   },
   "outputs": [
    {
     "data": {
      "text/plain": [
       "<seaborn.axisgrid.FacetGrid at 0x7fdf1383f290>"
      ]
     },
     "execution_count": 37,
     "metadata": {},
     "output_type": "execute_result"
    },
    {
     "data": {
      "image/png": "[encoded data removed]",
      "text/plain": [
       "<Figure size 576x540 with 9 Axes>"
      ]
     },
     "metadata": {
      "needs_background": "light"
     },
     "output_type": "display_data"
    }
   ],
   "source": [
    "sns.catplot(x=\"Survived\", col=\"Deck\", col_wrap=4,\n",
    "                data=combined,\n",
    "                kind=\"count\", height=2.5, aspect=.8)"
   ]
  },
  {
   "cell_type": "code",
   "execution_count": 38,
   "metadata": {
    "execution": {
     "iopub.execute_input": "2021-01-15T12:33:50.813506Z",
     "iopub.status.busy": "2021-01-15T12:33:50.812846Z",
     "iopub.status.idle": "2021-01-15T12:33:51.299162Z",
     "shell.execute_reply": "2021-01-15T12:33:51.299545Z"
    },
    "papermill": {
     "duration": 0.557083,
     "end_time": "2021-01-15T12:33:51.299689",
     "exception": false,
     "start_time": "2021-01-15T12:33:50.742606",
     "status": "completed"
    },
    "tags": []
   },
   "outputs": [
    {
     "data": {
      "text/plain": [
       "<seaborn.axisgrid.FacetGrid at 0x7fdf10262910>"
      ]
     },
     "execution_count": 38,
     "metadata": {},
     "output_type": "execute_result"
    },
    {
     "data": {
      "image/png": "[encoded data removed]",
      "text/plain": [
       "<Figure size 1152x360 with 4 Axes>"
      ]
     },
     "metadata": {
      "needs_background": "light"
     },
     "output_type": "display_data"
    }
   ],
   "source": [
    "sns.catplot(x=\"Survived\", col=\"Age_type\", col_wrap=4,\n",
    "            data=combined,\n",
    "            kind=\"count\",\n",
    "            aspect=.8)"
   ]
  },
  {
   "cell_type": "code",
   "execution_count": 39,
   "metadata": {
    "execution": {
     "iopub.execute_input": "2021-01-15T12:33:51.435195Z",
     "iopub.status.busy": "2021-01-15T12:33:51.434096Z",
     "iopub.status.idle": "2021-01-15T12:33:55.809433Z",
     "shell.execute_reply": "2021-01-15T12:33:55.809972Z"
    },
    "papermill": {
     "duration": 4.446997,
     "end_time": "2021-01-15T12:33:55.810108",
     "exception": false,
     "start_time": "2021-01-15T12:33:51.363111",
     "status": "completed"
    },
    "tags": []
   },
   "outputs": [
    {
     "data": {
      "image/png": "[encoded data removed]",
      "text/plain": [
       "<Figure size 1252.25x720 with 2 Axes>"
      ]
     },
     "metadata": {
      "needs_background": "light"
     },
     "output_type": "display_data"
    }
   ],
   "source": [
    "sns.catplot(x=\"Age\", col=\"Survived\",hue=\"Age_type\",\n",
    "                data=combined[:891], kind=\"count\",\n",
    "                height=10, aspect=0.8, orient=\"h\");"
   ]
  },
  {
   "cell_type": "code",
   "execution_count": 40,
   "metadata": {
    "execution": {
     "iopub.execute_input": "2021-01-15T12:33:55.979189Z",
     "iopub.status.busy": "2021-01-15T12:33:55.963666Z",
     "iopub.status.idle": "2021-01-15T12:33:55.990686Z",
     "shell.execute_reply": "2021-01-15T12:33:55.991144Z"
    },
    "papermill": {
     "duration": 0.11373,
     "end_time": "2021-01-15T12:33:55.991261",
     "exception": false,
     "start_time": "2021-01-15T12:33:55.877531",
     "status": "completed"
    },
    "tags": []
   },
   "outputs": [
    {
     "data": {
      "text/plain": [
       "array(['Mr', 'Mrs', 'Miss', 'Master', 'Don', 'Rev', 'Dr', 'Mme', 'Ms',\n",
       "       'Major', 'Lady', 'Sir', 'Mlle', 'Col', 'Capt', 'the Countess',\n",
       "       'Jonkheer', 'Dona'], dtype=object)"
      ]
     },
     "execution_count": 40,
     "metadata": {},
     "output_type": "execute_result"
    }
   ],
   "source": [
    "# Process Name\n",
    "def get_title(row):\n",
    "    return row.Name.split(\",\")[1].strip().split(\".\")[0]\n",
    "combined[\"Title\"] = combined.apply(get_title, axis=1)\n",
    "combined.Title.unique()"
   ]
  },
  {
   "cell_type": "code",
   "execution_count": 41,
   "metadata": {
    "execution": {
     "iopub.execute_input": "2021-01-15T12:33:56.124529Z",
     "iopub.status.busy": "2021-01-15T12:33:56.123918Z",
     "iopub.status.idle": "2021-01-15T12:33:56.134864Z",
     "shell.execute_reply": "2021-01-15T12:33:56.134347Z"
    },
    "papermill": {
     "duration": 0.078841,
     "end_time": "2021-01-15T12:33:56.134965",
     "exception": false,
     "start_time": "2021-01-15T12:33:56.056124",
     "status": "completed"
    },
    "tags": []
   },
   "outputs": [
    {
     "data": {
      "text/plain": [
       "array(['Mr', 'Mrs', 'Miss', 'Royalty', 'Officer'], dtype=object)"
      ]
     },
     "execution_count": 41,
     "metadata": {},
     "output_type": "execute_result"
    }
   ],
   "source": [
    "title_mappings = {\n",
    "    \"Capt\": \"Officer\",\n",
    "    \"Col\": \"Officer\",\n",
    "    \"Major\": \"Officer\",\n",
    "    \"Jonkheer\": \"Royalty\",\n",
    "    \"Don\": \"Royalty\",\n",
    "    \"Sir\" : \"Royalty\",\n",
    "    \"Dr\": \"Officer\",\n",
    "    \"Rev\": \"Officer\",\n",
    "    \"the Countess\":\"Royalty\",\n",
    "    \"Mme\": \"Mrs\",\n",
    "    \"Mlle\": \"Miss\",\n",
    "    \"Ms\": \"Mrs\",\n",
    "    \"Mr\" : \"Mr\",\n",
    "    \"Mrs\" : \"Mrs\",\n",
    "    \"Miss\" : \"Miss\",\n",
    "    \"Master\" : \"Royalty\",\n",
    "    \"Lady\" : \"Royalty\",\n",
    "    \"Dona\": \"Royalty\"\n",
    "}\n",
    "combined[\"Title\"] = combined[\"Title\"].map(title_mappings)\n",
    "combined[\"Title\"].unique()"
   ]
  },
  {
   "cell_type": "code",
   "execution_count": 42,
   "metadata": {
    "execution": {
     "iopub.execute_input": "2021-01-15T12:33:56.268615Z",
     "iopub.status.busy": "2021-01-15T12:33:56.268067Z",
     "iopub.status.idle": "2021-01-15T12:33:56.907390Z",
     "shell.execute_reply": "2021-01-15T12:33:56.907863Z"
    },
    "papermill": {
     "duration": 0.70857,
     "end_time": "2021-01-15T12:33:56.907995",
     "exception": false,
     "start_time": "2021-01-15T12:33:56.199425",
     "status": "completed"
    },
    "tags": []
   },
   "outputs": [
    {
     "data": {
      "text/plain": [
       "<seaborn.axisgrid.FacetGrid at 0x7fdf0f4ffb50>"
      ]
     },
     "execution_count": 42,
     "metadata": {},
     "output_type": "execute_result"
    },
    {
     "data": {
      "image/png": "[encoded data removed]",
      "text/plain": [
       "<Figure size 1152x720 with 5 Axes>"
      ]
     },
     "metadata": {
      "needs_background": "light"
     },
     "output_type": "display_data"
    }
   ],
   "source": [
    "sns.catplot(x=\"Survived\", col=\"Title\", col_wrap=4,\n",
    "            data=combined,\n",
    "            kind=\"count\",\n",
    "            aspect=.8)"
   ]
  },
  {
   "cell_type": "code",
   "execution_count": 43,
   "metadata": {
    "execution": {
     "iopub.execute_input": "2021-01-15T12:33:57.045610Z",
     "iopub.status.busy": "2021-01-15T12:33:57.044636Z",
     "iopub.status.idle": "2021-01-15T12:33:57.049744Z",
     "shell.execute_reply": "2021-01-15T12:33:57.050245Z"
    },
    "papermill": {
     "duration": 0.074074,
     "end_time": "2021-01-15T12:33:57.050356",
     "exception": false,
     "start_time": "2021-01-15T12:33:56.976282",
     "status": "completed"
    },
    "tags": []
   },
   "outputs": [],
   "source": [
    "# Drop Cabin, Ticket, Name column\n",
    "combined.drop([\"Name\", \"Ticket\",\"Cabin\"], axis=1, inplace=True)"
   ]
  },
  {
   "cell_type": "code",
   "execution_count": 44,
   "metadata": {
    "execution": {
     "iopub.execute_input": "2021-01-15T12:33:57.189289Z",
     "iopub.status.busy": "2021-01-15T12:33:57.188409Z",
     "iopub.status.idle": "2021-01-15T12:33:57.203912Z",
     "shell.execute_reply": "2021-01-15T12:33:57.204535Z"
    },
    "papermill": {
     "duration": 0.085918,
     "end_time": "2021-01-15T12:33:57.204693",
     "exception": false,
     "start_time": "2021-01-15T12:33:57.118775",
     "status": "completed"
    },
    "tags": []
   },
   "outputs": [
    {
     "data": {
      "text/html": [
       "<div>\n",
       "<style scoped>\n",
       "    .dataframe tbody tr th:only-of-type {\n",
       "        vertical-align: middle;\n",
       "    }\n",
       "\n",
       "    .dataframe tbody tr th {\n",
       "        vertical-align: top;\n",
       "    }\n",
       "\n",
       "    .dataframe thead th {\n",
       "        text-align: right;\n",
       "    }\n",
       "</style>\n",
       "<table border=\"1\" class=\"dataframe\">\n",
       "  <thead>\n",
       "    <tr style=\"text-align: right;\">\n",
       "      <th></th>\n",
       "      <th>Survived</th>\n",
       "      <th>Pclass</th>\n",
       "      <th>Sex</th>\n",
       "      <th>Age</th>\n",
       "      <th>SibSp</th>\n",
       "      <th>Parch</th>\n",
       "      <th>Fare</th>\n",
       "      <th>Embarked</th>\n",
       "      <th>Age_type</th>\n",
       "      <th>Deck</th>\n",
       "      <th>Title</th>\n",
       "    </tr>\n",
       "    <tr>\n",
       "      <th>PassengerId</th>\n",
       "      <th></th>\n",
       "      <th></th>\n",
       "      <th></th>\n",
       "      <th></th>\n",
       "      <th></th>\n",
       "      <th></th>\n",
       "      <th></th>\n",
       "      <th></th>\n",
       "      <th></th>\n",
       "      <th></th>\n",
       "      <th></th>\n",
       "    </tr>\n",
       "  </thead>\n",
       "  <tbody>\n",
       "    <tr>\n",
       "      <th>1</th>\n",
       "      <td>0.0</td>\n",
       "      <td>3</td>\n",
       "      <td>male</td>\n",
       "      <td>22.0</td>\n",
       "      <td>1</td>\n",
       "      <td>0</td>\n",
       "      <td>7.0</td>\n",
       "      <td>S</td>\n",
       "      <td>adult</td>\n",
       "      <td>F</td>\n",
       "      <td>Mr</td>\n",
       "    </tr>\n",
       "    <tr>\n",
       "      <th>2</th>\n",
       "      <td>1.0</td>\n",
       "      <td>1</td>\n",
       "      <td>female</td>\n",
       "      <td>38.0</td>\n",
       "      <td>1</td>\n",
       "      <td>0</td>\n",
       "      <td>71.0</td>\n",
       "      <td>C</td>\n",
       "      <td>adult</td>\n",
       "      <td>C</td>\n",
       "      <td>Mrs</td>\n",
       "    </tr>\n",
       "    <tr>\n",
       "      <th>3</th>\n",
       "      <td>1.0</td>\n",
       "      <td>3</td>\n",
       "      <td>female</td>\n",
       "      <td>26.0</td>\n",
       "      <td>0</td>\n",
       "      <td>0</td>\n",
       "      <td>8.0</td>\n",
       "      <td>S</td>\n",
       "      <td>adult</td>\n",
       "      <td>F</td>\n",
       "      <td>Miss</td>\n",
       "    </tr>\n",
       "    <tr>\n",
       "      <th>4</th>\n",
       "      <td>1.0</td>\n",
       "      <td>1</td>\n",
       "      <td>female</td>\n",
       "      <td>35.0</td>\n",
       "      <td>1</td>\n",
       "      <td>0</td>\n",
       "      <td>53.0</td>\n",
       "      <td>S</td>\n",
       "      <td>adult</td>\n",
       "      <td>C</td>\n",
       "      <td>Mrs</td>\n",
       "    </tr>\n",
       "    <tr>\n",
       "      <th>5</th>\n",
       "      <td>0.0</td>\n",
       "      <td>3</td>\n",
       "      <td>male</td>\n",
       "      <td>35.0</td>\n",
       "      <td>0</td>\n",
       "      <td>0</td>\n",
       "      <td>8.0</td>\n",
       "      <td>S</td>\n",
       "      <td>adult</td>\n",
       "      <td>F</td>\n",
       "      <td>Mr</td>\n",
       "    </tr>\n",
       "  </tbody>\n",
       "</table>\n",
       "</div>"
      ],
      "text/plain": [
       "             Survived  Pclass     Sex   Age  SibSp  Parch  Fare Embarked  \\\n",
       "PassengerId                                                                \n",
       "1                 0.0       3    male  22.0      1      0   7.0        S   \n",
       "2                 1.0       1  female  38.0      1      0  71.0        C   \n",
       "3                 1.0       3  female  26.0      0      0   8.0        S   \n",
       "4                 1.0       1  female  35.0      1      0  53.0        S   \n",
       "5                 0.0       3    male  35.0      0      0   8.0        S   \n",
       "\n",
       "            Age_type Deck Title  \n",
       "PassengerId                      \n",
       "1              adult    F    Mr  \n",
       "2              adult    C   Mrs  \n",
       "3              adult    F  Miss  \n",
       "4              adult    C   Mrs  \n",
       "5              adult    F    Mr  "
      ]
     },
     "execution_count": 44,
     "metadata": {},
     "output_type": "execute_result"
    }
   ],
   "source": [
    "combined.head()"
   ]
  },
  {
   "cell_type": "code",
   "execution_count": 45,
   "metadata": {
    "execution": {
     "iopub.execute_input": "2021-01-15T12:33:57.363833Z",
     "iopub.status.busy": "2021-01-15T12:33:57.363258Z",
     "iopub.status.idle": "2021-01-15T12:33:57.366754Z",
     "shell.execute_reply": "2021-01-15T12:33:57.367139Z"
    },
    "papermill": {
     "duration": 0.087076,
     "end_time": "2021-01-15T12:33:57.367256",
     "exception": false,
     "start_time": "2021-01-15T12:33:57.280180",
     "status": "completed"
    },
    "tags": []
   },
   "outputs": [
    {
     "data": {
      "text/plain": [
       "array([0, 1, 2, 5, 3, 4, 6, 9])"
      ]
     },
     "execution_count": 45,
     "metadata": {},
     "output_type": "execute_result"
    }
   ],
   "source": [
    "combined.Parch.unique()"
   ]
  },
  {
   "cell_type": "code",
   "execution_count": 46,
   "metadata": {
    "execution": {
     "iopub.execute_input": "2021-01-15T12:33:57.507395Z",
     "iopub.status.busy": "2021-01-15T12:33:57.506851Z",
     "iopub.status.idle": "2021-01-15T12:33:57.511648Z",
     "shell.execute_reply": "2021-01-15T12:33:57.511229Z"
    },
    "papermill": {
     "duration": 0.077499,
     "end_time": "2021-01-15T12:33:57.511742",
     "exception": false,
     "start_time": "2021-01-15T12:33:57.434243",
     "status": "completed"
    },
    "tags": []
   },
   "outputs": [
    {
     "data": {
      "text/plain": [
       "array([1, 0, 3, 4, 2, 5, 8])"
      ]
     },
     "execution_count": 46,
     "metadata": {},
     "output_type": "execute_result"
    }
   ],
   "source": [
    "combined.SibSp.unique()"
   ]
  },
  {
   "cell_type": "code",
   "execution_count": 47,
   "metadata": {
    "execution": {
     "iopub.execute_input": "2021-01-15T12:33:57.657133Z",
     "iopub.status.busy": "2021-01-15T12:33:57.656424Z",
     "iopub.status.idle": "2021-01-15T12:33:57.659329Z",
     "shell.execute_reply": "2021-01-15T12:33:57.658802Z"
    },
    "papermill": {
     "duration": 0.080103,
     "end_time": "2021-01-15T12:33:57.659434",
     "exception": false,
     "start_time": "2021-01-15T12:33:57.579331",
     "status": "completed"
    },
    "tags": []
   },
   "outputs": [],
   "source": [
    "#combined.Sex = combined.Sex.map({\"male\":0, \"female\":1})"
   ]
  },
  {
   "cell_type": "code",
   "execution_count": null,
   "metadata": {
    "papermill": {
     "duration": 0.068096,
     "end_time": "2021-01-15T12:33:57.797380",
     "exception": false,
     "start_time": "2021-01-15T12:33:57.729284",
     "status": "completed"
    },
    "tags": []
   },
   "outputs": [],
   "source": []
  },
  {
   "cell_type": "code",
   "execution_count": 48,
   "metadata": {
    "execution": {
     "iopub.execute_input": "2021-01-15T12:33:57.957150Z",
     "iopub.status.busy": "2021-01-15T12:33:57.956502Z",
     "iopub.status.idle": "2021-01-15T12:33:57.960432Z",
     "shell.execute_reply": "2021-01-15T12:33:57.959822Z"
    },
    "papermill": {
     "duration": 0.093675,
     "end_time": "2021-01-15T12:33:57.960536",
     "exception": false,
     "start_time": "2021-01-15T12:33:57.866861",
     "status": "completed"
    },
    "tags": []
   },
   "outputs": [
    {
     "data": {
      "text/plain": [
       "PassengerId\n",
       "1    2\n",
       "2    2\n",
       "3    1\n",
       "4    2\n",
       "5    1\n",
       "Name: Family_size, dtype: int64"
      ]
     },
     "execution_count": 48,
     "metadata": {},
     "output_type": "execute_result"
    }
   ],
   "source": [
    "combined[\"Family_size\"] = combined[\"Parch\"] + combined[\"SibSp\"] + 1\n",
    "combined[\"Family_size\"].head()"
   ]
  },
  {
   "cell_type": "code",
   "execution_count": 49,
   "metadata": {
    "execution": {
     "iopub.execute_input": "2021-01-15T12:33:58.100774Z",
     "iopub.status.busy": "2021-01-15T12:33:58.100156Z",
     "iopub.status.idle": "2021-01-15T12:33:58.405793Z",
     "shell.execute_reply": "2021-01-15T12:33:58.405305Z"
    },
    "papermill": {
     "duration": 0.377349,
     "end_time": "2021-01-15T12:33:58.405891",
     "exception": false,
     "start_time": "2021-01-15T12:33:58.028542",
     "status": "completed"
    },
    "tags": []
   },
   "outputs": [
    {
     "data": {
      "text/plain": [
       "<seaborn.axisgrid.FacetGrid at 0x7fdf0f3ea5d0>"
      ]
     },
     "execution_count": 49,
     "metadata": {},
     "output_type": "execute_result"
    },
    {
     "data": {
      "image/png": "[encoded data removed]",
      "text/plain": [
       "<Figure size 576x180 with 2 Axes>"
      ]
     },
     "metadata": {
      "needs_background": "light"
     },
     "output_type": "display_data"
    }
   ],
   "source": [
    "sns.catplot(x=\"Family_size\", col=\"Survived\", col_wrap=4,\n",
    "                data=combined,\n",
    "                kind=\"count\", height=2.5, aspect=.8)"
   ]
  },
  {
   "cell_type": "code",
   "execution_count": null,
   "metadata": {
    "papermill": {
     "duration": 0.069404,
     "end_time": "2021-01-15T12:33:58.546403",
     "exception": false,
     "start_time": "2021-01-15T12:33:58.476999",
     "status": "completed"
    },
    "tags": []
   },
   "outputs": [],
   "source": []
  },
  {
   "cell_type": "code",
   "execution_count": 50,
   "metadata": {
    "execution": {
     "iopub.execute_input": "2021-01-15T12:33:58.692373Z",
     "iopub.status.busy": "2021-01-15T12:33:58.691812Z",
     "iopub.status.idle": "2021-01-15T12:33:58.716824Z",
     "shell.execute_reply": "2021-01-15T12:33:58.717253Z"
    },
    "papermill": {
     "duration": 0.102167,
     "end_time": "2021-01-15T12:33:58.717373",
     "exception": false,
     "start_time": "2021-01-15T12:33:58.615206",
     "status": "completed"
    },
    "tags": []
   },
   "outputs": [
    {
     "data": {
      "text/html": [
       "<div>\n",
       "<style scoped>\n",
       "    .dataframe tbody tr th:only-of-type {\n",
       "        vertical-align: middle;\n",
       "    }\n",
       "\n",
       "    .dataframe tbody tr th {\n",
       "        vertical-align: top;\n",
       "    }\n",
       "\n",
       "    .dataframe thead th {\n",
       "        text-align: right;\n",
       "    }\n",
       "</style>\n",
       "<table border=\"1\" class=\"dataframe\">\n",
       "  <thead>\n",
       "    <tr style=\"text-align: right;\">\n",
       "      <th></th>\n",
       "      <th>Survived</th>\n",
       "      <th>Age</th>\n",
       "      <th>SibSp</th>\n",
       "      <th>Parch</th>\n",
       "      <th>Fare</th>\n",
       "      <th>Family_size</th>\n",
       "      <th>Embarked_C</th>\n",
       "      <th>Embarked_Q</th>\n",
       "      <th>Embarked_S</th>\n",
       "      <th>Pclass_1</th>\n",
       "      <th>...</th>\n",
       "      <th>Sex_male</th>\n",
       "      <th>Age_type_adult</th>\n",
       "      <th>Age_type_child</th>\n",
       "      <th>Age_type_middle_aged</th>\n",
       "      <th>Age_type_old</th>\n",
       "      <th>Title_Miss</th>\n",
       "      <th>Title_Mr</th>\n",
       "      <th>Title_Mrs</th>\n",
       "      <th>Title_Officer</th>\n",
       "      <th>Title_Royalty</th>\n",
       "    </tr>\n",
       "    <tr>\n",
       "      <th>PassengerId</th>\n",
       "      <th></th>\n",
       "      <th></th>\n",
       "      <th></th>\n",
       "      <th></th>\n",
       "      <th></th>\n",
       "      <th></th>\n",
       "      <th></th>\n",
       "      <th></th>\n",
       "      <th></th>\n",
       "      <th></th>\n",
       "      <th></th>\n",
       "      <th></th>\n",
       "      <th></th>\n",
       "      <th></th>\n",
       "      <th></th>\n",
       "      <th></th>\n",
       "      <th></th>\n",
       "      <th></th>\n",
       "      <th></th>\n",
       "      <th></th>\n",
       "      <th></th>\n",
       "    </tr>\n",
       "  </thead>\n",
       "  <tbody>\n",
       "    <tr>\n",
       "      <th>1</th>\n",
       "      <td>0.0</td>\n",
       "      <td>22.0</td>\n",
       "      <td>1</td>\n",
       "      <td>0</td>\n",
       "      <td>7.0</td>\n",
       "      <td>2</td>\n",
       "      <td>0</td>\n",
       "      <td>0</td>\n",
       "      <td>1</td>\n",
       "      <td>0</td>\n",
       "      <td>...</td>\n",
       "      <td>1</td>\n",
       "      <td>1</td>\n",
       "      <td>0</td>\n",
       "      <td>0</td>\n",
       "      <td>0</td>\n",
       "      <td>0</td>\n",
       "      <td>1</td>\n",
       "      <td>0</td>\n",
       "      <td>0</td>\n",
       "      <td>0</td>\n",
       "    </tr>\n",
       "    <tr>\n",
       "      <th>2</th>\n",
       "      <td>1.0</td>\n",
       "      <td>38.0</td>\n",
       "      <td>1</td>\n",
       "      <td>0</td>\n",
       "      <td>71.0</td>\n",
       "      <td>2</td>\n",
       "      <td>1</td>\n",
       "      <td>0</td>\n",
       "      <td>0</td>\n",
       "      <td>1</td>\n",
       "      <td>...</td>\n",
       "      <td>0</td>\n",
       "      <td>1</td>\n",
       "      <td>0</td>\n",
       "      <td>0</td>\n",
       "      <td>0</td>\n",
       "      <td>0</td>\n",
       "      <td>0</td>\n",
       "      <td>1</td>\n",
       "      <td>0</td>\n",
       "      <td>0</td>\n",
       "    </tr>\n",
       "    <tr>\n",
       "      <th>3</th>\n",
       "      <td>1.0</td>\n",
       "      <td>26.0</td>\n",
       "      <td>0</td>\n",
       "      <td>0</td>\n",
       "      <td>8.0</td>\n",
       "      <td>1</td>\n",
       "      <td>0</td>\n",
       "      <td>0</td>\n",
       "      <td>1</td>\n",
       "      <td>0</td>\n",
       "      <td>...</td>\n",
       "      <td>0</td>\n",
       "      <td>1</td>\n",
       "      <td>0</td>\n",
       "      <td>0</td>\n",
       "      <td>0</td>\n",
       "      <td>1</td>\n",
       "      <td>0</td>\n",
       "      <td>0</td>\n",
       "      <td>0</td>\n",
       "      <td>0</td>\n",
       "    </tr>\n",
       "    <tr>\n",
       "      <th>4</th>\n",
       "      <td>1.0</td>\n",
       "      <td>35.0</td>\n",
       "      <td>1</td>\n",
       "      <td>0</td>\n",
       "      <td>53.0</td>\n",
       "      <td>2</td>\n",
       "      <td>0</td>\n",
       "      <td>0</td>\n",
       "      <td>1</td>\n",
       "      <td>1</td>\n",
       "      <td>...</td>\n",
       "      <td>0</td>\n",
       "      <td>1</td>\n",
       "      <td>0</td>\n",
       "      <td>0</td>\n",
       "      <td>0</td>\n",
       "      <td>0</td>\n",
       "      <td>0</td>\n",
       "      <td>1</td>\n",
       "      <td>0</td>\n",
       "      <td>0</td>\n",
       "    </tr>\n",
       "    <tr>\n",
       "      <th>5</th>\n",
       "      <td>0.0</td>\n",
       "      <td>35.0</td>\n",
       "      <td>0</td>\n",
       "      <td>0</td>\n",
       "      <td>8.0</td>\n",
       "      <td>1</td>\n",
       "      <td>0</td>\n",
       "      <td>0</td>\n",
       "      <td>1</td>\n",
       "      <td>0</td>\n",
       "      <td>...</td>\n",
       "      <td>1</td>\n",
       "      <td>1</td>\n",
       "      <td>0</td>\n",
       "      <td>0</td>\n",
       "      <td>0</td>\n",
       "      <td>0</td>\n",
       "      <td>1</td>\n",
       "      <td>0</td>\n",
       "      <td>0</td>\n",
       "      <td>0</td>\n",
       "    </tr>\n",
       "  </tbody>\n",
       "</table>\n",
       "<p>5 rows × 32 columns</p>\n",
       "</div>"
      ],
      "text/plain": [
       "             Survived   Age  SibSp  Parch  Fare  Family_size  Embarked_C  \\\n",
       "PassengerId                                                                \n",
       "1                 0.0  22.0      1      0   7.0            2           0   \n",
       "2                 1.0  38.0      1      0  71.0            2           1   \n",
       "3                 1.0  26.0      0      0   8.0            1           0   \n",
       "4                 1.0  35.0      1      0  53.0            2           0   \n",
       "5                 0.0  35.0      0      0   8.0            1           0   \n",
       "\n",
       "             Embarked_Q  Embarked_S  Pclass_1  ...  Sex_male  Age_type_adult  \\\n",
       "PassengerId                                    ...                             \n",
       "1                     0           1         0  ...         1               1   \n",
       "2                     0           0         1  ...         0               1   \n",
       "3                     0           1         0  ...         0               1   \n",
       "4                     0           1         1  ...         0               1   \n",
       "5                     0           1         0  ...         1               1   \n",
       "\n",
       "             Age_type_child  Age_type_middle_aged  Age_type_old  Title_Miss  \\\n",
       "PassengerId                                                                   \n",
       "1                         0                     0             0           0   \n",
       "2                         0                     0             0           0   \n",
       "3                         0                     0             0           1   \n",
       "4                         0                     0             0           0   \n",
       "5                         0                     0             0           0   \n",
       "\n",
       "             Title_Mr  Title_Mrs  Title_Officer  Title_Royalty  \n",
       "PassengerId                                                     \n",
       "1                   1          0              0              0  \n",
       "2                   0          1              0              0  \n",
       "3                   0          0              0              0  \n",
       "4                   0          1              0              0  \n",
       "5                   1          0              0              0  \n",
       "\n",
       "[5 rows x 32 columns]"
      ]
     },
     "execution_count": 50,
     "metadata": {},
     "output_type": "execute_result"
    }
   ],
   "source": [
    "oh_features = [\"Embarked\", \"Pclass\", \"Deck\", \"Sex\", \"Age_type\", \"Title\"]\n",
    "combined = pd.get_dummies(combined, columns=oh_features, prefix=oh_features)\n",
    "combined.head()"
   ]
  },
  {
   "cell_type": "code",
   "execution_count": 51,
   "metadata": {
    "execution": {
     "iopub.execute_input": "2021-01-15T12:33:58.867019Z",
     "iopub.status.busy": "2021-01-15T12:33:58.863292Z",
     "iopub.status.idle": "2021-01-15T12:33:58.870812Z",
     "shell.execute_reply": "2021-01-15T12:33:58.871372Z"
    },
    "papermill": {
     "duration": 0.084309,
     "end_time": "2021-01-15T12:33:58.871508",
     "exception": false,
     "start_time": "2021-01-15T12:33:58.787199",
     "status": "completed"
    },
    "tags": []
   },
   "outputs": [
    {
     "data": {
      "text/plain": [
       "Survived                float64\n",
       "Age                     float64\n",
       "SibSp                     int64\n",
       "Parch                     int64\n",
       "Fare                    float64\n",
       "Family_size               int64\n",
       "Embarked_C                uint8\n",
       "Embarked_Q                uint8\n",
       "Embarked_S                uint8\n",
       "Pclass_1                  uint8\n",
       "Pclass_2                  uint8\n",
       "Pclass_3                  uint8\n",
       "Deck_A                    uint8\n",
       "Deck_B                    uint8\n",
       "Deck_C                    uint8\n",
       "Deck_D                    uint8\n",
       "Deck_E                    uint8\n",
       "Deck_F                    uint8\n",
       "Deck_G                    uint8\n",
       "Deck_T                    uint8\n",
       "Deck_U                    uint8\n",
       "Sex_female                uint8\n",
       "Sex_male                  uint8\n",
       "Age_type_adult            uint8\n",
       "Age_type_child            uint8\n",
       "Age_type_middle_aged      uint8\n",
       "Age_type_old              uint8\n",
       "Title_Miss                uint8\n",
       "Title_Mr                  uint8\n",
       "Title_Mrs                 uint8\n",
       "Title_Officer             uint8\n",
       "Title_Royalty             uint8\n",
       "dtype: object"
      ]
     },
     "execution_count": 51,
     "metadata": {},
     "output_type": "execute_result"
    }
   ],
   "source": [
    "combined.dtypes"
   ]
  },
  {
   "cell_type": "code",
   "execution_count": 52,
   "metadata": {
    "execution": {
     "iopub.execute_input": "2021-01-15T12:33:59.028424Z",
     "iopub.status.busy": "2021-01-15T12:33:59.027631Z",
     "iopub.status.idle": "2021-01-15T12:33:59.031446Z",
     "shell.execute_reply": "2021-01-15T12:33:59.031009Z"
    },
    "papermill": {
     "duration": 0.081541,
     "end_time": "2021-01-15T12:33:59.031535",
     "exception": false,
     "start_time": "2021-01-15T12:33:58.949994",
     "status": "completed"
    },
    "tags": []
   },
   "outputs": [
    {
     "data": {
      "text/plain": [
       "Survived                float64\n",
       "Age                     float64\n",
       "SibSp                     int64\n",
       "Parch                     int64\n",
       "Fare                    float64\n",
       "Family_size               int64\n",
       "Embarked_C                uint8\n",
       "Embarked_Q                uint8\n",
       "Embarked_S                uint8\n",
       "Pclass_1                  uint8\n",
       "Pclass_2                  uint8\n",
       "Pclass_3                  uint8\n",
       "Deck_A                    uint8\n",
       "Deck_B                    uint8\n",
       "Deck_C                    uint8\n",
       "Deck_D                    uint8\n",
       "Deck_E                    uint8\n",
       "Deck_F                    uint8\n",
       "Deck_G                    uint8\n",
       "Deck_T                    uint8\n",
       "Deck_U                    uint8\n",
       "Sex_female                uint8\n",
       "Sex_male                  uint8\n",
       "Age_type_adult            uint8\n",
       "Age_type_child            uint8\n",
       "Age_type_middle_aged      uint8\n",
       "Age_type_old              uint8\n",
       "Title_Miss                uint8\n",
       "Title_Mr                  uint8\n",
       "Title_Mrs                 uint8\n",
       "Title_Officer             uint8\n",
       "Title_Royalty             uint8\n",
       "dtype: object"
      ]
     },
     "execution_count": 52,
     "metadata": {},
     "output_type": "execute_result"
    }
   ],
   "source": [
    "combined.dtypes"
   ]
  },
  {
   "cell_type": "code",
   "execution_count": 53,
   "metadata": {
    "execution": {
     "iopub.execute_input": "2021-01-15T12:33:59.179917Z",
     "iopub.status.busy": "2021-01-15T12:33:59.179050Z",
     "iopub.status.idle": "2021-01-15T12:34:00.171678Z",
     "shell.execute_reply": "2021-01-15T12:34:00.171036Z"
    },
    "papermill": {
     "duration": 1.068924,
     "end_time": "2021-01-15T12:34:00.171787",
     "exception": false,
     "start_time": "2021-01-15T12:33:59.102863",
     "status": "completed"
    },
    "tags": []
   },
   "outputs": [],
   "source": [
    "from numpy import mean\n",
    "from numpy import std\n",
    "from sklearn.model_selection import StratifiedKFold\n",
    "from sklearn.model_selection import cross_val_score\n",
    "from xgboost import XGBClassifier\n"
   ]
  },
  {
   "cell_type": "code",
   "execution_count": 54,
   "metadata": {
    "execution": {
     "iopub.execute_input": "2021-01-15T12:34:00.325152Z",
     "iopub.status.busy": "2021-01-15T12:34:00.324157Z",
     "iopub.status.idle": "2021-01-15T12:34:00.329020Z",
     "shell.execute_reply": "2021-01-15T12:34:00.328556Z"
    },
    "papermill": {
     "duration": 0.082777,
     "end_time": "2021-01-15T12:34:00.329108",
     "exception": false,
     "start_time": "2021-01-15T12:34:00.246331",
     "status": "completed"
    },
    "tags": []
   },
   "outputs": [],
   "source": [
    "y = combined.iloc[:891].Survived\n",
    "combined.drop([\"Survived\"], axis=1,inplace=True)\n",
    "X = combined.iloc[:891]\n",
    "test_data = combined.iloc[891:]"
   ]
  },
  {
   "cell_type": "code",
   "execution_count": 55,
   "metadata": {
    "execution": {
     "iopub.execute_input": "2021-01-15T12:34:00.486788Z",
     "iopub.status.busy": "2021-01-15T12:34:00.477332Z",
     "iopub.status.idle": "2021-01-15T12:34:00.495788Z",
     "shell.execute_reply": "2021-01-15T12:34:00.496200Z"
    },
    "papermill": {
     "duration": 0.096509,
     "end_time": "2021-01-15T12:34:00.496338",
     "exception": false,
     "start_time": "2021-01-15T12:34:00.399829",
     "status": "completed"
    },
    "tags": []
   },
   "outputs": [
    {
     "data": {
      "text/html": [
       "<div>\n",
       "<style scoped>\n",
       "    .dataframe tbody tr th:only-of-type {\n",
       "        vertical-align: middle;\n",
       "    }\n",
       "\n",
       "    .dataframe tbody tr th {\n",
       "        vertical-align: top;\n",
       "    }\n",
       "\n",
       "    .dataframe thead th {\n",
       "        text-align: right;\n",
       "    }\n",
       "</style>\n",
       "<table border=\"1\" class=\"dataframe\">\n",
       "  <thead>\n",
       "    <tr style=\"text-align: right;\">\n",
       "      <th></th>\n",
       "      <th>Age</th>\n",
       "      <th>SibSp</th>\n",
       "      <th>Parch</th>\n",
       "      <th>Fare</th>\n",
       "      <th>Family_size</th>\n",
       "      <th>Embarked_C</th>\n",
       "      <th>Embarked_Q</th>\n",
       "      <th>Embarked_S</th>\n",
       "      <th>Pclass_1</th>\n",
       "      <th>Pclass_2</th>\n",
       "      <th>...</th>\n",
       "      <th>Sex_male</th>\n",
       "      <th>Age_type_adult</th>\n",
       "      <th>Age_type_child</th>\n",
       "      <th>Age_type_middle_aged</th>\n",
       "      <th>Age_type_old</th>\n",
       "      <th>Title_Miss</th>\n",
       "      <th>Title_Mr</th>\n",
       "      <th>Title_Mrs</th>\n",
       "      <th>Title_Officer</th>\n",
       "      <th>Title_Royalty</th>\n",
       "    </tr>\n",
       "    <tr>\n",
       "      <th>PassengerId</th>\n",
       "      <th></th>\n",
       "      <th></th>\n",
       "      <th></th>\n",
       "      <th></th>\n",
       "      <th></th>\n",
       "      <th></th>\n",
       "      <th></th>\n",
       "      <th></th>\n",
       "      <th></th>\n",
       "      <th></th>\n",
       "      <th></th>\n",
       "      <th></th>\n",
       "      <th></th>\n",
       "      <th></th>\n",
       "      <th></th>\n",
       "      <th></th>\n",
       "      <th></th>\n",
       "      <th></th>\n",
       "      <th></th>\n",
       "      <th></th>\n",
       "      <th></th>\n",
       "    </tr>\n",
       "  </thead>\n",
       "  <tbody>\n",
       "    <tr>\n",
       "      <th>1</th>\n",
       "      <td>22.0</td>\n",
       "      <td>1</td>\n",
       "      <td>0</td>\n",
       "      <td>7.0</td>\n",
       "      <td>2</td>\n",
       "      <td>0</td>\n",
       "      <td>0</td>\n",
       "      <td>1</td>\n",
       "      <td>0</td>\n",
       "      <td>0</td>\n",
       "      <td>...</td>\n",
       "      <td>1</td>\n",
       "      <td>1</td>\n",
       "      <td>0</td>\n",
       "      <td>0</td>\n",
       "      <td>0</td>\n",
       "      <td>0</td>\n",
       "      <td>1</td>\n",
       "      <td>0</td>\n",
       "      <td>0</td>\n",
       "      <td>0</td>\n",
       "    </tr>\n",
       "    <tr>\n",
       "      <th>2</th>\n",
       "      <td>38.0</td>\n",
       "      <td>1</td>\n",
       "      <td>0</td>\n",
       "      <td>71.0</td>\n",
       "      <td>2</td>\n",
       "      <td>1</td>\n",
       "      <td>0</td>\n",
       "      <td>0</td>\n",
       "      <td>1</td>\n",
       "      <td>0</td>\n",
       "      <td>...</td>\n",
       "      <td>0</td>\n",
       "      <td>1</td>\n",
       "      <td>0</td>\n",
       "      <td>0</td>\n",
       "      <td>0</td>\n",
       "      <td>0</td>\n",
       "      <td>0</td>\n",
       "      <td>1</td>\n",
       "      <td>0</td>\n",
       "      <td>0</td>\n",
       "    </tr>\n",
       "    <tr>\n",
       "      <th>3</th>\n",
       "      <td>26.0</td>\n",
       "      <td>0</td>\n",
       "      <td>0</td>\n",
       "      <td>8.0</td>\n",
       "      <td>1</td>\n",
       "      <td>0</td>\n",
       "      <td>0</td>\n",
       "      <td>1</td>\n",
       "      <td>0</td>\n",
       "      <td>0</td>\n",
       "      <td>...</td>\n",
       "      <td>0</td>\n",
       "      <td>1</td>\n",
       "      <td>0</td>\n",
       "      <td>0</td>\n",
       "      <td>0</td>\n",
       "      <td>1</td>\n",
       "      <td>0</td>\n",
       "      <td>0</td>\n",
       "      <td>0</td>\n",
       "      <td>0</td>\n",
       "    </tr>\n",
       "    <tr>\n",
       "      <th>4</th>\n",
       "      <td>35.0</td>\n",
       "      <td>1</td>\n",
       "      <td>0</td>\n",
       "      <td>53.0</td>\n",
       "      <td>2</td>\n",
       "      <td>0</td>\n",
       "      <td>0</td>\n",
       "      <td>1</td>\n",
       "      <td>1</td>\n",
       "      <td>0</td>\n",
       "      <td>...</td>\n",
       "      <td>0</td>\n",
       "      <td>1</td>\n",
       "      <td>0</td>\n",
       "      <td>0</td>\n",
       "      <td>0</td>\n",
       "      <td>0</td>\n",
       "      <td>0</td>\n",
       "      <td>1</td>\n",
       "      <td>0</td>\n",
       "      <td>0</td>\n",
       "    </tr>\n",
       "    <tr>\n",
       "      <th>5</th>\n",
       "      <td>35.0</td>\n",
       "      <td>0</td>\n",
       "      <td>0</td>\n",
       "      <td>8.0</td>\n",
       "      <td>1</td>\n",
       "      <td>0</td>\n",
       "      <td>0</td>\n",
       "      <td>1</td>\n",
       "      <td>0</td>\n",
       "      <td>0</td>\n",
       "      <td>...</td>\n",
       "      <td>1</td>\n",
       "      <td>1</td>\n",
       "      <td>0</td>\n",
       "      <td>0</td>\n",
       "      <td>0</td>\n",
       "      <td>0</td>\n",
       "      <td>1</td>\n",
       "      <td>0</td>\n",
       "      <td>0</td>\n",
       "      <td>0</td>\n",
       "    </tr>\n",
       "  </tbody>\n",
       "</table>\n",
       "<p>5 rows × 31 columns</p>\n",
       "</div>"
      ],
      "text/plain": [
       "              Age  SibSp  Parch  Fare  Family_size  Embarked_C  Embarked_Q  \\\n",
       "PassengerId                                                                  \n",
       "1            22.0      1      0   7.0            2           0           0   \n",
       "2            38.0      1      0  71.0            2           1           0   \n",
       "3            26.0      0      0   8.0            1           0           0   \n",
       "4            35.0      1      0  53.0            2           0           0   \n",
       "5            35.0      0      0   8.0            1           0           0   \n",
       "\n",
       "             Embarked_S  Pclass_1  Pclass_2  ...  Sex_male  Age_type_adult  \\\n",
       "PassengerId                                  ...                             \n",
       "1                     1         0         0  ...         1               1   \n",
       "2                     0         1         0  ...         0               1   \n",
       "3                     1         0         0  ...         0               1   \n",
       "4                     1         1         0  ...         0               1   \n",
       "5                     1         0         0  ...         1               1   \n",
       "\n",
       "             Age_type_child  Age_type_middle_aged  Age_type_old  Title_Miss  \\\n",
       "PassengerId                                                                   \n",
       "1                         0                     0             0           0   \n",
       "2                         0                     0             0           0   \n",
       "3                         0                     0             0           1   \n",
       "4                         0                     0             0           0   \n",
       "5                         0                     0             0           0   \n",
       "\n",
       "             Title_Mr  Title_Mrs  Title_Officer  Title_Royalty  \n",
       "PassengerId                                                     \n",
       "1                   1          0              0              0  \n",
       "2                   0          1              0              0  \n",
       "3                   0          0              0              0  \n",
       "4                   0          1              0              0  \n",
       "5                   1          0              0              0  \n",
       "\n",
       "[5 rows x 31 columns]"
      ]
     },
     "execution_count": 55,
     "metadata": {},
     "output_type": "execute_result"
    }
   ],
   "source": [
    "X.head()"
   ]
  },
  {
   "cell_type": "code",
   "execution_count": 56,
   "metadata": {
    "execution": {
     "iopub.execute_input": "2021-01-15T12:34:00.649697Z",
     "iopub.status.busy": "2021-01-15T12:34:00.649124Z",
     "iopub.status.idle": "2021-01-15T12:34:00.655119Z",
     "shell.execute_reply": "2021-01-15T12:34:00.655548Z"
    },
    "papermill": {
     "duration": 0.082219,
     "end_time": "2021-01-15T12:34:00.655688",
     "exception": false,
     "start_time": "2021-01-15T12:34:00.573469",
     "status": "completed"
    },
    "tags": []
   },
   "outputs": [
    {
     "data": {
      "text/plain": [
       "Age                     float64\n",
       "SibSp                     int64\n",
       "Parch                     int64\n",
       "Fare                    float64\n",
       "Family_size               int64\n",
       "Embarked_C                uint8\n",
       "Embarked_Q                uint8\n",
       "Embarked_S                uint8\n",
       "Pclass_1                  uint8\n",
       "Pclass_2                  uint8\n",
       "Pclass_3                  uint8\n",
       "Deck_A                    uint8\n",
       "Deck_B                    uint8\n",
       "Deck_C                    uint8\n",
       "Deck_D                    uint8\n",
       "Deck_E                    uint8\n",
       "Deck_F                    uint8\n",
       "Deck_G                    uint8\n",
       "Deck_T                    uint8\n",
       "Deck_U                    uint8\n",
       "Sex_female                uint8\n",
       "Sex_male                  uint8\n",
       "Age_type_adult            uint8\n",
       "Age_type_child            uint8\n",
       "Age_type_middle_aged      uint8\n",
       "Age_type_old              uint8\n",
       "Title_Miss                uint8\n",
       "Title_Mr                  uint8\n",
       "Title_Mrs                 uint8\n",
       "Title_Officer             uint8\n",
       "Title_Royalty             uint8\n",
       "dtype: object"
      ]
     },
     "execution_count": 56,
     "metadata": {},
     "output_type": "execute_result"
    }
   ],
   "source": [
    "X.dtypes"
   ]
  },
  {
   "cell_type": "code",
   "execution_count": 57,
   "metadata": {
    "execution": {
     "iopub.execute_input": "2021-01-15T12:34:00.806424Z",
     "iopub.status.busy": "2021-01-15T12:34:00.805836Z",
     "iopub.status.idle": "2021-01-15T12:34:00.826793Z",
     "shell.execute_reply": "2021-01-15T12:34:00.826328Z"
    },
    "papermill": {
     "duration": 0.096928,
     "end_time": "2021-01-15T12:34:00.826885",
     "exception": false,
     "start_time": "2021-01-15T12:34:00.729957",
     "status": "completed"
    },
    "tags": []
   },
   "outputs": [
    {
     "data": {
      "text/html": [
       "<div>\n",
       "<style scoped>\n",
       "    .dataframe tbody tr th:only-of-type {\n",
       "        vertical-align: middle;\n",
       "    }\n",
       "\n",
       "    .dataframe tbody tr th {\n",
       "        vertical-align: top;\n",
       "    }\n",
       "\n",
       "    .dataframe thead th {\n",
       "        text-align: right;\n",
       "    }\n",
       "</style>\n",
       "<table border=\"1\" class=\"dataframe\">\n",
       "  <thead>\n",
       "    <tr style=\"text-align: right;\">\n",
       "      <th></th>\n",
       "      <th>Age</th>\n",
       "      <th>SibSp</th>\n",
       "      <th>Parch</th>\n",
       "      <th>Fare</th>\n",
       "      <th>Family_size</th>\n",
       "      <th>Embarked_C</th>\n",
       "      <th>Embarked_Q</th>\n",
       "      <th>Embarked_S</th>\n",
       "      <th>Pclass_1</th>\n",
       "      <th>Pclass_2</th>\n",
       "      <th>...</th>\n",
       "      <th>Sex_male</th>\n",
       "      <th>Age_type_adult</th>\n",
       "      <th>Age_type_child</th>\n",
       "      <th>Age_type_middle_aged</th>\n",
       "      <th>Age_type_old</th>\n",
       "      <th>Title_Miss</th>\n",
       "      <th>Title_Mr</th>\n",
       "      <th>Title_Mrs</th>\n",
       "      <th>Title_Officer</th>\n",
       "      <th>Title_Royalty</th>\n",
       "    </tr>\n",
       "    <tr>\n",
       "      <th>PassengerId</th>\n",
       "      <th></th>\n",
       "      <th></th>\n",
       "      <th></th>\n",
       "      <th></th>\n",
       "      <th></th>\n",
       "      <th></th>\n",
       "      <th></th>\n",
       "      <th></th>\n",
       "      <th></th>\n",
       "      <th></th>\n",
       "      <th></th>\n",
       "      <th></th>\n",
       "      <th></th>\n",
       "      <th></th>\n",
       "      <th></th>\n",
       "      <th></th>\n",
       "      <th></th>\n",
       "      <th></th>\n",
       "      <th></th>\n",
       "      <th></th>\n",
       "      <th></th>\n",
       "    </tr>\n",
       "  </thead>\n",
       "  <tbody>\n",
       "    <tr>\n",
       "      <th>892</th>\n",
       "      <td>34.5</td>\n",
       "      <td>0</td>\n",
       "      <td>0</td>\n",
       "      <td>8.0</td>\n",
       "      <td>1</td>\n",
       "      <td>0</td>\n",
       "      <td>1</td>\n",
       "      <td>0</td>\n",
       "      <td>0</td>\n",
       "      <td>0</td>\n",
       "      <td>...</td>\n",
       "      <td>1</td>\n",
       "      <td>1</td>\n",
       "      <td>0</td>\n",
       "      <td>0</td>\n",
       "      <td>0</td>\n",
       "      <td>0</td>\n",
       "      <td>1</td>\n",
       "      <td>0</td>\n",
       "      <td>0</td>\n",
       "      <td>0</td>\n",
       "    </tr>\n",
       "    <tr>\n",
       "      <th>893</th>\n",
       "      <td>47.0</td>\n",
       "      <td>1</td>\n",
       "      <td>0</td>\n",
       "      <td>7.0</td>\n",
       "      <td>2</td>\n",
       "      <td>0</td>\n",
       "      <td>0</td>\n",
       "      <td>1</td>\n",
       "      <td>0</td>\n",
       "      <td>0</td>\n",
       "      <td>...</td>\n",
       "      <td>0</td>\n",
       "      <td>0</td>\n",
       "      <td>0</td>\n",
       "      <td>1</td>\n",
       "      <td>0</td>\n",
       "      <td>0</td>\n",
       "      <td>0</td>\n",
       "      <td>1</td>\n",
       "      <td>0</td>\n",
       "      <td>0</td>\n",
       "    </tr>\n",
       "    <tr>\n",
       "      <th>894</th>\n",
       "      <td>62.0</td>\n",
       "      <td>0</td>\n",
       "      <td>0</td>\n",
       "      <td>10.0</td>\n",
       "      <td>1</td>\n",
       "      <td>0</td>\n",
       "      <td>1</td>\n",
       "      <td>0</td>\n",
       "      <td>0</td>\n",
       "      <td>1</td>\n",
       "      <td>...</td>\n",
       "      <td>1</td>\n",
       "      <td>0</td>\n",
       "      <td>0</td>\n",
       "      <td>0</td>\n",
       "      <td>1</td>\n",
       "      <td>0</td>\n",
       "      <td>1</td>\n",
       "      <td>0</td>\n",
       "      <td>0</td>\n",
       "      <td>0</td>\n",
       "    </tr>\n",
       "    <tr>\n",
       "      <th>895</th>\n",
       "      <td>27.0</td>\n",
       "      <td>0</td>\n",
       "      <td>0</td>\n",
       "      <td>9.0</td>\n",
       "      <td>1</td>\n",
       "      <td>0</td>\n",
       "      <td>0</td>\n",
       "      <td>1</td>\n",
       "      <td>0</td>\n",
       "      <td>0</td>\n",
       "      <td>...</td>\n",
       "      <td>1</td>\n",
       "      <td>1</td>\n",
       "      <td>0</td>\n",
       "      <td>0</td>\n",
       "      <td>0</td>\n",
       "      <td>0</td>\n",
       "      <td>1</td>\n",
       "      <td>0</td>\n",
       "      <td>0</td>\n",
       "      <td>0</td>\n",
       "    </tr>\n",
       "    <tr>\n",
       "      <th>896</th>\n",
       "      <td>22.0</td>\n",
       "      <td>1</td>\n",
       "      <td>1</td>\n",
       "      <td>12.0</td>\n",
       "      <td>3</td>\n",
       "      <td>0</td>\n",
       "      <td>0</td>\n",
       "      <td>1</td>\n",
       "      <td>0</td>\n",
       "      <td>0</td>\n",
       "      <td>...</td>\n",
       "      <td>0</td>\n",
       "      <td>1</td>\n",
       "      <td>0</td>\n",
       "      <td>0</td>\n",
       "      <td>0</td>\n",
       "      <td>0</td>\n",
       "      <td>0</td>\n",
       "      <td>1</td>\n",
       "      <td>0</td>\n",
       "      <td>0</td>\n",
       "    </tr>\n",
       "  </tbody>\n",
       "</table>\n",
       "<p>5 rows × 31 columns</p>\n",
       "</div>"
      ],
      "text/plain": [
       "              Age  SibSp  Parch  Fare  Family_size  Embarked_C  Embarked_Q  \\\n",
       "PassengerId                                                                  \n",
       "892          34.5      0      0   8.0            1           0           1   \n",
       "893          47.0      1      0   7.0            2           0           0   \n",
       "894          62.0      0      0  10.0            1           0           1   \n",
       "895          27.0      0      0   9.0            1           0           0   \n",
       "896          22.0      1      1  12.0            3           0           0   \n",
       "\n",
       "             Embarked_S  Pclass_1  Pclass_2  ...  Sex_male  Age_type_adult  \\\n",
       "PassengerId                                  ...                             \n",
       "892                   0         0         0  ...         1               1   \n",
       "893                   1         0         0  ...         0               0   \n",
       "894                   0         0         1  ...         1               0   \n",
       "895                   1         0         0  ...         1               1   \n",
       "896                   1         0         0  ...         0               1   \n",
       "\n",
       "             Age_type_child  Age_type_middle_aged  Age_type_old  Title_Miss  \\\n",
       "PassengerId                                                                   \n",
       "892                       0                     0             0           0   \n",
       "893                       0                     1             0           0   \n",
       "894                       0                     0             1           0   \n",
       "895                       0                     0             0           0   \n",
       "896                       0                     0             0           0   \n",
       "\n",
       "             Title_Mr  Title_Mrs  Title_Officer  Title_Royalty  \n",
       "PassengerId                                                     \n",
       "892                 1          0              0              0  \n",
       "893                 0          1              0              0  \n",
       "894                 1          0              0              0  \n",
       "895                 1          0              0              0  \n",
       "896                 0          1              0              0  \n",
       "\n",
       "[5 rows x 31 columns]"
      ]
     },
     "execution_count": 57,
     "metadata": {},
     "output_type": "execute_result"
    }
   ],
   "source": [
    "test_data.head()"
   ]
  },
  {
   "cell_type": "code",
   "execution_count": 58,
   "metadata": {
    "execution": {
     "iopub.execute_input": "2021-01-15T12:34:00.987240Z",
     "iopub.status.busy": "2021-01-15T12:34:00.986356Z",
     "iopub.status.idle": "2021-01-15T12:34:00.989641Z",
     "shell.execute_reply": "2021-01-15T12:34:00.990016Z"
    },
    "papermill": {
     "duration": 0.085783,
     "end_time": "2021-01-15T12:34:00.990135",
     "exception": false,
     "start_time": "2021-01-15T12:34:00.904352",
     "status": "completed"
    },
    "tags": []
   },
   "outputs": [
    {
     "data": {
      "text/plain": [
       "PassengerId\n",
       "1    0.0\n",
       "2    1.0\n",
       "3    1.0\n",
       "4    1.0\n",
       "5    0.0\n",
       "Name: Survived, dtype: float64"
      ]
     },
     "execution_count": 58,
     "metadata": {},
     "output_type": "execute_result"
    }
   ],
   "source": [
    "y.head()"
   ]
  },
  {
   "cell_type": "code",
   "execution_count": 59,
   "metadata": {
    "execution": {
     "iopub.execute_input": "2021-01-15T12:34:01.143068Z",
     "iopub.status.busy": "2021-01-15T12:34:01.142250Z",
     "iopub.status.idle": "2021-01-15T12:34:01.146214Z",
     "shell.execute_reply": "2021-01-15T12:34:01.146651Z"
    },
    "papermill": {
     "duration": 0.082133,
     "end_time": "2021-01-15T12:34:01.146762",
     "exception": false,
     "start_time": "2021-01-15T12:34:01.064629",
     "status": "completed"
    },
    "tags": []
   },
   "outputs": [],
   "source": [
    "y = y.astype(\"uint8\")"
   ]
  },
  {
   "cell_type": "code",
   "execution_count": 60,
   "metadata": {
    "execution": {
     "iopub.execute_input": "2021-01-15T12:34:01.302407Z",
     "iopub.status.busy": "2021-01-15T12:34:01.301890Z",
     "iopub.status.idle": "2021-01-15T12:34:01.306713Z",
     "shell.execute_reply": "2021-01-15T12:34:01.307246Z"
    },
    "papermill": {
     "duration": 0.082446,
     "end_time": "2021-01-15T12:34:01.307362",
     "exception": false,
     "start_time": "2021-01-15T12:34:01.224916",
     "status": "completed"
    },
    "tags": []
   },
   "outputs": [
    {
     "data": {
      "text/plain": [
       "PassengerId\n",
       "1    0\n",
       "2    1\n",
       "3    1\n",
       "4    1\n",
       "5    0\n",
       "Name: Survived, dtype: uint8"
      ]
     },
     "execution_count": 60,
     "metadata": {},
     "output_type": "execute_result"
    }
   ],
   "source": [
    "y.head()"
   ]
  },
  {
   "cell_type": "code",
   "execution_count": 61,
   "metadata": {
    "execution": {
     "iopub.execute_input": "2021-01-15T12:34:01.463548Z",
     "iopub.status.busy": "2021-01-15T12:34:01.463001Z",
     "iopub.status.idle": "2021-01-15T12:34:04.803869Z",
     "shell.execute_reply": "2021-01-15T12:34:04.804525Z"
    },
    "papermill": {
     "duration": 3.422042,
     "end_time": "2021-01-15T12:34:04.804706",
     "exception": false,
     "start_time": "2021-01-15T12:34:01.382664",
     "status": "completed"
    },
    "tags": []
   },
   "outputs": [
    {
     "data": {
      "text/plain": [
       "array([0.81005587, 0.85393258, 0.76404494, 0.83707865, 0.85955056])"
      ]
     },
     "execution_count": 61,
     "metadata": {},
     "output_type": "execute_result"
    }
   ],
   "source": [
    "cv = StratifiedKFold(n_splits=5, shuffle=True, random_state=1)\n",
    "model = XGBClassifier(learning_rate=0.01,\n",
    "                      n_estimators=1150,\n",
    "                      max_depth=5,\n",
    "                      objective= 'binary:logistic'\n",
    "                     )\n",
    "scores = cross_val_score(model, X, y, scoring='accuracy', cv=cv)\n",
    "scores"
   ]
  },
  {
   "cell_type": "code",
   "execution_count": 62,
   "metadata": {
    "execution": {
     "iopub.execute_input": "2021-01-15T12:34:05.037765Z",
     "iopub.status.busy": "2021-01-15T12:34:05.036889Z",
     "iopub.status.idle": "2021-01-15T12:34:05.039822Z",
     "shell.execute_reply": "2021-01-15T12:34:05.040300Z"
    },
    "papermill": {
     "duration": 0.136758,
     "end_time": "2021-01-15T12:34:05.040414",
     "exception": false,
     "start_time": "2021-01-15T12:34:04.903656",
     "status": "completed"
    },
    "tags": []
   },
   "outputs": [
    {
     "data": {
      "text/plain": [
       "82.49325214989642"
      ]
     },
     "execution_count": 62,
     "metadata": {},
     "output_type": "execute_result"
    }
   ],
   "source": [
    "mean(scores)*100"
   ]
  },
  {
   "cell_type": "code",
   "execution_count": 63,
   "metadata": {
    "execution": {
     "iopub.execute_input": "2021-01-15T12:34:05.200006Z",
     "iopub.status.busy": "2021-01-15T12:34:05.199044Z",
     "iopub.status.idle": "2021-01-15T12:34:05.976698Z",
     "shell.execute_reply": "2021-01-15T12:34:05.977256Z"
    },
    "papermill": {
     "duration": 0.856107,
     "end_time": "2021-01-15T12:34:05.977405",
     "exception": false,
     "start_time": "2021-01-15T12:34:05.121298",
     "status": "completed"
    },
    "tags": []
   },
   "outputs": [],
   "source": [
    "model.fit(X,y)\n",
    "predictions = model.predict(test_data)"
   ]
  },
  {
   "cell_type": "code",
   "execution_count": 64,
   "metadata": {
    "execution": {
     "iopub.execute_input": "2021-01-15T12:34:06.181334Z",
     "iopub.status.busy": "2021-01-15T12:34:06.180835Z",
     "iopub.status.idle": "2021-01-15T12:34:06.183930Z",
     "shell.execute_reply": "2021-01-15T12:34:06.183394Z"
    },
    "papermill": {
     "duration": 0.105721,
     "end_time": "2021-01-15T12:34:06.184018",
     "exception": false,
     "start_time": "2021-01-15T12:34:06.078297",
     "status": "completed"
    },
    "tags": []
   },
   "outputs": [
    {
     "data": {
      "text/plain": [
       "dtype('uint8')"
      ]
     },
     "execution_count": 64,
     "metadata": {},
     "output_type": "execute_result"
    }
   ],
   "source": [
    "predictions.dtype"
   ]
  },
  {
   "cell_type": "code",
   "execution_count": 65,
   "metadata": {
    "execution": {
     "iopub.execute_input": "2021-01-15T12:34:06.344654Z",
     "iopub.status.busy": "2021-01-15T12:34:06.344049Z",
     "iopub.status.idle": "2021-01-15T12:34:06.349563Z",
     "shell.execute_reply": "2021-01-15T12:34:06.349997Z"
    },
    "papermill": {
     "duration": 0.08659,
     "end_time": "2021-01-15T12:34:06.350106",
     "exception": false,
     "start_time": "2021-01-15T12:34:06.263516",
     "status": "completed"
    },
    "tags": []
   },
   "outputs": [
    {
     "data": {
      "text/plain": [
       "array([0, 0, 0, 0, 1, 0, 0, 0, 1, 0, 0, 0, 1, 0, 1, 1, 0, 0, 1, 0, 0, 1,\n",
       "       1, 1, 1, 0, 1, 0, 1, 0, 0, 0, 1, 0, 0, 0, 1, 0, 0, 0, 0, 1, 0, 1,\n",
       "       1, 0, 1, 0, 1, 1, 0, 0, 1, 1, 0, 0, 0, 0, 0, 1, 0, 0, 0, 1, 1, 1,\n",
       "       1, 0, 0, 1, 1, 0, 0, 0, 1, 0, 0, 1, 0, 1, 1, 0, 0, 0, 0, 0, 1, 1,\n",
       "       1, 1, 0, 0, 1, 0, 1, 0, 1, 0, 0, 0, 1, 0, 0, 0, 1, 0, 0, 0, 0, 0,\n",
       "       0, 1, 1, 1, 1, 0, 0, 1, 0, 1, 1, 0, 1, 0, 0, 1, 0, 1, 0, 0, 0, 0,\n",
       "       0, 0, 0, 0, 1, 0, 0, 0, 0, 1, 1, 0, 1, 0, 0, 0, 1, 0, 1, 0, 0, 1,\n",
       "       0, 0, 1, 0, 1, 0, 1, 1, 1, 0, 0, 0, 0, 0, 1, 0, 0, 1, 0, 0, 0, 1,\n",
       "       1, 0, 1, 1, 0, 1, 1, 0, 1, 0, 1, 0, 0, 0, 0, 0, 0, 0, 1, 0, 1, 1,\n",
       "       0, 1, 1, 1, 0, 1, 0, 0, 0, 0, 1, 0, 0, 0, 0, 1, 0, 0, 1, 0, 1, 0,\n",
       "       1, 0, 1, 0, 1, 0, 0, 1, 0, 0, 0, 1, 0, 0, 0, 0, 0, 0, 1, 1, 1, 1,\n",
       "       0, 0, 0, 0, 1, 0, 1, 0, 1, 0, 0, 0, 0, 0, 0, 0, 1, 0, 0, 0, 1, 1,\n",
       "       0, 0, 0, 0, 1, 0, 0, 0, 1, 1, 0, 1, 0, 0, 0, 0, 0, 1, 1, 0, 1, 0,\n",
       "       0, 0, 0, 0, 0, 0, 0, 0, 0, 0, 1, 0, 0, 0, 0, 0, 0, 0, 1, 1, 0, 1,\n",
       "       0, 0, 0, 0, 0, 0, 1, 1, 0, 0, 0, 0, 0, 0, 0, 1, 1, 0, 1, 0, 0, 0,\n",
       "       1, 0, 0, 1, 0, 0, 0, 0, 0, 1, 0, 0, 0, 1, 0, 1, 0, 1, 0, 1, 1, 0,\n",
       "       0, 0, 1, 0, 1, 0, 0, 0, 0, 1, 1, 0, 1, 0, 0, 0, 1, 0, 0, 1, 0, 0,\n",
       "       1, 1, 0, 0, 0, 0, 0, 0, 0, 1, 0, 1, 0, 0, 0, 0, 0, 1, 1, 0, 0, 1,\n",
       "       0, 1, 0, 0, 1, 0, 1, 0, 0, 0, 0, 0, 1, 1, 1, 1, 0, 0, 1, 0, 0, 1],\n",
       "      dtype=uint8)"
      ]
     },
     "execution_count": 65,
     "metadata": {},
     "output_type": "execute_result"
    }
   ],
   "source": [
    "predictions"
   ]
  },
  {
   "cell_type": "code",
   "execution_count": 66,
   "metadata": {
    "execution": {
     "iopub.execute_input": "2021-01-15T12:34:06.506173Z",
     "iopub.status.busy": "2021-01-15T12:34:06.505635Z",
     "iopub.status.idle": "2021-01-15T12:34:06.508055Z",
     "shell.execute_reply": "2021-01-15T12:34:06.508493Z"
    },
    "papermill": {
     "duration": 0.081634,
     "end_time": "2021-01-15T12:34:06.508622",
     "exception": false,
     "start_time": "2021-01-15T12:34:06.426988",
     "status": "completed"
    },
    "tags": []
   },
   "outputs": [],
   "source": [
    "# output = pd.DataFrame({'PassengerId': test_data.index, 'Survived': predictions})\n",
    "# output.to_csv('my_submission12.csv', index=False)"
   ]
  },
  {
   "cell_type": "code",
   "execution_count": 67,
   "metadata": {
    "execution": {
     "iopub.execute_input": "2021-01-15T12:34:06.665776Z",
     "iopub.status.busy": "2021-01-15T12:34:06.665190Z",
     "iopub.status.idle": "2021-01-15T12:34:07.405664Z",
     "shell.execute_reply": "2021-01-15T12:34:07.405134Z"
    },
    "papermill": {
     "duration": 0.82067,
     "end_time": "2021-01-15T12:34:07.405764",
     "exception": false,
     "start_time": "2021-01-15T12:34:06.585094",
     "status": "completed"
    },
    "tags": []
   },
   "outputs": [
    {
     "data": {
      "text/plain": [
       "<matplotlib.axes._subplots.AxesSubplot at 0x7fdf0f6e41d0>"
      ]
     },
     "execution_count": 67,
     "metadata": {},
     "output_type": "execute_result"
    },
    {
     "data": {
      "image/png": "[encoded data removed]",
      "text/plain": [
       "<Figure size 1800x1800 with 1 Axes>"
      ]
     },
     "metadata": {
      "needs_background": "light"
     },
     "output_type": "display_data"
    }
   ],
   "source": [
    "features = pd.DataFrame()\n",
    "features['feature'] = X.columns\n",
    "features['importance'] = model.feature_importances_\n",
    "features.sort_values(by=['importance'], ascending=True, inplace=True)\n",
    "features.set_index('feature', inplace=True)\n",
    "features.plot(kind='barh', figsize=(25, 25))"
   ]
  },
  {
   "cell_type": "code",
   "execution_count": 68,
   "metadata": {
    "execution": {
     "iopub.execute_input": "2021-01-15T12:34:07.567609Z",
     "iopub.status.busy": "2021-01-15T12:34:07.566966Z",
     "iopub.status.idle": "2021-01-15T12:34:07.683229Z",
     "shell.execute_reply": "2021-01-15T12:34:07.682741Z"
    },
    "papermill": {
     "duration": 0.198097,
     "end_time": "2021-01-15T12:34:07.683329",
     "exception": false,
     "start_time": "2021-01-15T12:34:07.485232",
     "status": "completed"
    },
    "tags": []
   },
   "outputs": [
    {
     "data": {
      "text/html": [
       "<style type='text/css'>\n",
       ".datatable table.frame { margin-bottom: 0; }\n",
       ".datatable table.frame thead { border-bottom: none; }\n",
       ".datatable table.frame tr.coltypes td {  color: #FFFFFF;  line-height: 6px;  padding: 0 0.5em;}\n",
       ".datatable .bool    { background: #DDDD99; }\n",
       ".datatable .object  { background: #565656; }\n",
       ".datatable .int     { background: #5D9E5D; }\n",
       ".datatable .float   { background: #4040CC; }\n",
       ".datatable .str     { background: #CC4040; }\n",
       ".datatable .row_index {  background: var(--jp-border-color3);  border-right: 1px solid var(--jp-border-color0);  color: var(--jp-ui-font-color3);  font-size: 9px;}\n",
       ".datatable .frame tr.coltypes .row_index {  background: var(--jp-border-color0);}\n",
       ".datatable th:nth-child(2) { padding-left: 12px; }\n",
       ".datatable .hellipsis {  color: var(--jp-cell-editor-border-color);}\n",
       ".datatable .vellipsis {  background: var(--jp-layout-color0);  color: var(--jp-cell-editor-border-color);}\n",
       ".datatable .na {  color: var(--jp-cell-editor-border-color);  font-size: 80%;}\n",
       ".datatable .footer { font-size: 9px; }\n",
       ".datatable .frame_dimensions {  background: var(--jp-border-color3);  border-top: 1px solid var(--jp-border-color0);  color: var(--jp-ui-font-color3);  display: inline-block;  opacity: 0.6;  padding: 1px 10px 1px 5px;}\n",
       "</style>\n"
      ],
      "text/plain": [
       "<IPython.core.display.HTML object>"
      ]
     },
     "metadata": {},
     "output_type": "display_data"
    }
   ],
   "source": [
    "import lightgbm as lgb\n",
    "from lightgbm import LGBMClassifier"
   ]
  },
  {
   "cell_type": "code",
   "execution_count": 69,
   "metadata": {
    "execution": {
     "iopub.execute_input": "2021-01-15T12:34:07.848501Z",
     "iopub.status.busy": "2021-01-15T12:34:07.847957Z",
     "iopub.status.idle": "2021-01-15T12:34:07.851149Z",
     "shell.execute_reply": "2021-01-15T12:34:07.850538Z"
    },
    "papermill": {
     "duration": 0.087476,
     "end_time": "2021-01-15T12:34:07.851271",
     "exception": false,
     "start_time": "2021-01-15T12:34:07.763795",
     "status": "completed"
    },
    "tags": []
   },
   "outputs": [],
   "source": [
    "model = LGBMClassifier(learning_rate=0.01,\n",
    "                       num_leaves = 30,\n",
    "                       boosting_type='gbdt',\n",
    "                       objective='binary',\n",
    "                       metric='binary_logloss',\n",
    "                       max_depth = 5,\n",
    "                       n_estimators=1000, max_bin=255, subsample_for_bin=50000, \n",
    "                       min_split_gain=1, min_child_weight=2, min_child_samples=10, subsample=0.995)"
   ]
  },
  {
   "cell_type": "code",
   "execution_count": 70,
   "metadata": {
    "execution": {
     "iopub.execute_input": "2021-01-15T12:34:08.014835Z",
     "iopub.status.busy": "2021-01-15T12:34:08.014132Z",
     "iopub.status.idle": "2021-01-15T12:34:08.221251Z",
     "shell.execute_reply": "2021-01-15T12:34:08.221960Z"
    },
    "papermill": {
     "duration": 0.290086,
     "end_time": "2021-01-15T12:34:08.222118",
     "exception": false,
     "start_time": "2021-01-15T12:34:07.932032",
     "status": "completed"
    },
    "tags": []
   },
   "outputs": [
    {
     "data": {
      "text/plain": [
       "88.7488034236162"
      ]
     },
     "execution_count": 70,
     "metadata": {},
     "output_type": "execute_result"
    }
   ],
   "source": [
    "model.fit(X, y)\n",
    "from sklearn.metrics import roc_auc_score\n",
    "y_pred = model.predict(X)\n",
    "roc_auc_score(y_pred,y)*100"
   ]
  },
  {
   "cell_type": "code",
   "execution_count": 71,
   "metadata": {
    "execution": {
     "iopub.execute_input": "2021-01-15T12:34:08.443675Z",
     "iopub.status.busy": "2021-01-15T12:34:08.442764Z",
     "iopub.status.idle": "2021-01-15T12:34:08.446758Z",
     "shell.execute_reply": "2021-01-15T12:34:08.446329Z"
    },
    "papermill": {
     "duration": 0.116176,
     "end_time": "2021-01-15T12:34:08.446853",
     "exception": false,
     "start_time": "2021-01-15T12:34:08.330677",
     "status": "completed"
    },
    "tags": []
   },
   "outputs": [
    {
     "data": {
      "text/html": [
       "<div>\n",
       "<style scoped>\n",
       "    .dataframe tbody tr th:only-of-type {\n",
       "        vertical-align: middle;\n",
       "    }\n",
       "\n",
       "    .dataframe tbody tr th {\n",
       "        vertical-align: top;\n",
       "    }\n",
       "\n",
       "    .dataframe thead th {\n",
       "        text-align: right;\n",
       "    }\n",
       "</style>\n",
       "<table border=\"1\" class=\"dataframe\">\n",
       "  <thead>\n",
       "    <tr style=\"text-align: right;\">\n",
       "      <th></th>\n",
       "      <th>importance</th>\n",
       "    </tr>\n",
       "    <tr>\n",
       "      <th>feature</th>\n",
       "      <th></th>\n",
       "    </tr>\n",
       "  </thead>\n",
       "  <tbody>\n",
       "    <tr>\n",
       "      <th>Fare</th>\n",
       "      <td>1272</td>\n",
       "    </tr>\n",
       "    <tr>\n",
       "      <th>Age</th>\n",
       "      <td>962</td>\n",
       "    </tr>\n",
       "    <tr>\n",
       "      <th>Family_size</th>\n",
       "      <td>293</td>\n",
       "    </tr>\n",
       "    <tr>\n",
       "      <th>Title_Mr</th>\n",
       "      <td>210</td>\n",
       "    </tr>\n",
       "    <tr>\n",
       "      <th>Sex_female</th>\n",
       "      <td>207</td>\n",
       "    </tr>\n",
       "    <tr>\n",
       "      <th>Pclass_3</th>\n",
       "      <td>169</td>\n",
       "    </tr>\n",
       "    <tr>\n",
       "      <th>Pclass_1</th>\n",
       "      <td>134</td>\n",
       "    </tr>\n",
       "    <tr>\n",
       "      <th>Embarked_S</th>\n",
       "      <td>118</td>\n",
       "    </tr>\n",
       "    <tr>\n",
       "      <th>Embarked_C</th>\n",
       "      <td>117</td>\n",
       "    </tr>\n",
       "    <tr>\n",
       "      <th>Deck_E</th>\n",
       "      <td>109</td>\n",
       "    </tr>\n",
       "    <tr>\n",
       "      <th>Deck_G</th>\n",
       "      <td>59</td>\n",
       "    </tr>\n",
       "    <tr>\n",
       "      <th>Deck_F</th>\n",
       "      <td>50</td>\n",
       "    </tr>\n",
       "    <tr>\n",
       "      <th>Deck_B</th>\n",
       "      <td>43</td>\n",
       "    </tr>\n",
       "    <tr>\n",
       "      <th>Title_Mrs</th>\n",
       "      <td>40</td>\n",
       "    </tr>\n",
       "    <tr>\n",
       "      <th>Title_Officer</th>\n",
       "      <td>29</td>\n",
       "    </tr>\n",
       "    <tr>\n",
       "      <th>Title_Royalty</th>\n",
       "      <td>9</td>\n",
       "    </tr>\n",
       "    <tr>\n",
       "      <th>SibSp</th>\n",
       "      <td>7</td>\n",
       "    </tr>\n",
       "    <tr>\n",
       "      <th>Parch</th>\n",
       "      <td>1</td>\n",
       "    </tr>\n",
       "    <tr>\n",
       "      <th>Sex_male</th>\n",
       "      <td>1</td>\n",
       "    </tr>\n",
       "  </tbody>\n",
       "</table>\n",
       "</div>"
      ],
      "text/plain": [
       "               importance\n",
       "feature                  \n",
       "Fare                 1272\n",
       "Age                   962\n",
       "Family_size           293\n",
       "Title_Mr              210\n",
       "Sex_female            207\n",
       "Pclass_3              169\n",
       "Pclass_1              134\n",
       "Embarked_S            118\n",
       "Embarked_C            117\n",
       "Deck_E                109\n",
       "Deck_G                 59\n",
       "Deck_F                 50\n",
       "Deck_B                 43\n",
       "Title_Mrs              40\n",
       "Title_Officer          29\n",
       "Title_Royalty           9\n",
       "SibSp                   7\n",
       "Parch                   1\n",
       "Sex_male                1"
      ]
     },
     "execution_count": 71,
     "metadata": {},
     "output_type": "execute_result"
    }
   ],
   "source": [
    "features = pd.DataFrame()\n",
    "features['feature'] = X.columns\n",
    "features['importance'] = model.feature_importances_\n",
    "features.sort_values(by=['importance'], ascending=False, inplace=True)\n",
    "features.set_index('feature', inplace=True)\n",
    "features[features.importance != 0]"
   ]
  },
  {
   "cell_type": "code",
   "execution_count": 72,
   "metadata": {
    "execution": {
     "iopub.execute_input": "2021-01-15T12:34:08.619752Z",
     "iopub.status.busy": "2021-01-15T12:34:08.614042Z",
     "iopub.status.idle": "2021-01-15T12:34:08.984729Z",
     "shell.execute_reply": "2021-01-15T12:34:08.985232Z"
    },
    "papermill": {
     "duration": 0.459305,
     "end_time": "2021-01-15T12:34:08.985350",
     "exception": false,
     "start_time": "2021-01-15T12:34:08.526045",
     "status": "completed"
    },
    "tags": []
   },
   "outputs": [
    {
     "data": {
      "text/plain": [
       "<matplotlib.axes._subplots.AxesSubplot at 0x7fdf0834cfd0>"
      ]
     },
     "execution_count": 72,
     "metadata": {},
     "output_type": "execute_result"
    },
    {
     "data": {
      "image/png": "[encoded data removed]",
      "text/plain": [
       "<Figure size 1440x1800 with 1 Axes>"
      ]
     },
     "metadata": {
      "needs_background": "light"
     },
     "output_type": "display_data"
    }
   ],
   "source": [
    "features.sort_values(by=['importance'], ascending=True, inplace=True)\n",
    "\n",
    "features.plot(kind='barh', figsize=(20, 25))"
   ]
  },
  {
   "cell_type": "code",
   "execution_count": 73,
   "metadata": {
    "execution": {
     "iopub.execute_input": "2021-01-15T12:34:09.153566Z",
     "iopub.status.busy": "2021-01-15T12:34:09.152936Z",
     "iopub.status.idle": "2021-01-15T12:34:09.164528Z",
     "shell.execute_reply": "2021-01-15T12:34:09.165254Z"
    },
    "papermill": {
     "duration": 0.097289,
     "end_time": "2021-01-15T12:34:09.165410",
     "exception": false,
     "start_time": "2021-01-15T12:34:09.068121",
     "status": "completed"
    },
    "tags": []
   },
   "outputs": [],
   "source": [
    "predictions = model.predict(test_data)"
   ]
  },
  {
   "cell_type": "code",
   "execution_count": 74,
   "metadata": {
    "execution": {
     "iopub.execute_input": "2021-01-15T12:34:09.379787Z",
     "iopub.status.busy": "2021-01-15T12:34:09.378836Z",
     "iopub.status.idle": "2021-01-15T12:34:09.382664Z",
     "shell.execute_reply": "2021-01-15T12:34:09.382220Z"
    },
    "papermill": {
     "duration": 0.110407,
     "end_time": "2021-01-15T12:34:09.382759",
     "exception": false,
     "start_time": "2021-01-15T12:34:09.272352",
     "status": "completed"
    },
    "tags": []
   },
   "outputs": [
    {
     "data": {
      "text/plain": [
       "array([0, 0, 0, 0, 1, 0, 0, 0, 1, 0, 0, 0, 1, 0, 1, 1, 0, 0, 1, 0, 0, 1,\n",
       "       1, 1, 1, 0, 1, 0, 0, 0, 0, 0, 1, 0, 1, 0, 1, 0, 0, 0, 0, 0, 0, 1,\n",
       "       1, 0, 0, 0, 1, 1, 0, 0, 1, 1, 0, 0, 0, 0, 0, 1, 0, 0, 0, 1, 1, 1,\n",
       "       1, 0, 0, 1, 1, 0, 0, 0, 1, 0, 0, 1, 0, 1, 1, 0, 0, 0, 0, 0, 1, 1,\n",
       "       1, 1, 0, 0, 1, 0, 1, 0, 1, 0, 1, 0, 1, 0, 0, 0, 1, 0, 0, 0, 0, 0,\n",
       "       0, 1, 1, 1, 1, 0, 0, 1, 0, 1, 1, 0, 1, 0, 0, 1, 0, 1, 0, 0, 0, 0,\n",
       "       0, 0, 0, 0, 0, 0, 1, 0, 0, 1, 0, 0, 0, 0, 0, 0, 0, 0, 1, 0, 0, 1,\n",
       "       0, 0, 1, 1, 0, 0, 1, 1, 1, 0, 0, 1, 0, 0, 1, 0, 0, 0, 0, 0, 0, 1,\n",
       "       1, 0, 1, 1, 0, 1, 1, 0, 1, 0, 1, 0, 0, 0, 0, 0, 0, 0, 1, 0, 1, 1,\n",
       "       0, 1, 1, 1, 0, 1, 0, 0, 1, 0, 1, 0, 0, 0, 0, 1, 0, 0, 1, 0, 1, 0,\n",
       "       1, 0, 1, 0, 1, 1, 0, 1, 0, 0, 0, 1, 0, 0, 0, 0, 0, 0, 1, 1, 1, 1,\n",
       "       0, 0, 0, 0, 1, 0, 1, 0, 1, 0, 0, 0, 0, 0, 0, 0, 1, 0, 0, 0, 1, 1,\n",
       "       0, 0, 0, 0, 1, 0, 0, 0, 1, 1, 0, 1, 0, 0, 0, 0, 0, 1, 1, 1, 1, 0,\n",
       "       0, 0, 0, 0, 0, 0, 0, 0, 0, 0, 1, 0, 0, 0, 0, 0, 0, 0, 1, 1, 0, 1,\n",
       "       0, 0, 0, 0, 0, 0, 1, 1, 0, 0, 0, 0, 0, 0, 0, 0, 1, 0, 1, 0, 0, 0,\n",
       "       1, 0, 0, 1, 0, 0, 0, 0, 0, 1, 0, 0, 0, 1, 0, 1, 0, 0, 0, 1, 1, 0,\n",
       "       0, 0, 1, 0, 1, 0, 0, 1, 0, 1, 1, 0, 1, 0, 0, 0, 1, 0, 0, 1, 0, 0,\n",
       "       1, 1, 0, 0, 0, 0, 0, 0, 0, 1, 0, 1, 0, 0, 0, 0, 0, 1, 1, 0, 0, 1,\n",
       "       0, 1, 0, 0, 1, 0, 1, 0, 0, 0, 0, 0, 1, 1, 1, 1, 0, 0, 1, 0, 0, 1],\n",
       "      dtype=uint8)"
      ]
     },
     "execution_count": 74,
     "metadata": {},
     "output_type": "execute_result"
    }
   ],
   "source": [
    "predictions"
   ]
  },
  {
   "cell_type": "code",
   "execution_count": 75,
   "metadata": {
    "execution": {
     "iopub.execute_input": "2021-01-15T12:34:09.552951Z",
     "iopub.status.busy": "2021-01-15T12:34:09.552340Z",
     "iopub.status.idle": "2021-01-15T12:34:09.771392Z",
     "shell.execute_reply": "2021-01-15T12:34:09.770804Z"
    },
    "papermill": {
     "duration": 0.306039,
     "end_time": "2021-01-15T12:34:09.771501",
     "exception": false,
     "start_time": "2021-01-15T12:34:09.465462",
     "status": "completed"
    },
    "tags": []
   },
   "outputs": [],
   "source": [
    "output = pd.DataFrame({'PassengerId': test_data.index, 'Survived': predictions})\n",
    "output.to_csv('my_submission20.csv', index=False)"
   ]
  },
  {
   "cell_type": "code",
   "execution_count": null,
   "metadata": {
    "papermill": {
     "duration": 0.081606,
     "end_time": "2021-01-15T12:34:09.937711",
     "exception": false,
     "start_time": "2021-01-15T12:34:09.856105",
     "status": "completed"
    },
    "tags": []
   },
   "outputs": [],
   "source": []
  }
 ],
 "metadata": {
  "kernelspec": {
   "display_name": "Python 3",
   "language": "python",
   "name": "python3"
  },
  "language_info": {
   "codemirror_mode": {
    "name": "ipython",
    "version": 3
   },
   "file_extension": ".py",
   "mimetype": "text/x-python",
   "name": "python",
   "nbconvert_exporter": "python",
   "pygments_lexer": "ipython3",
   "version": "3.7.6"
  },
  "papermill": {
   "duration": 38.0491,
   "end_time": "2021-01-15T12:34:11.122654",
   "environment_variables": {},
   "exception": null,
   "input_path": "__notebook__.ipynb",
   "output_path": "__notebook__.ipynb",
   "parameters": {},
   "start_time": "2021-01-15T12:33:33.073554",
   "version": "2.1.0"
  }
 },
 "nbformat": 4,
 "nbformat_minor": 4
}
